{
  "nbformat": 4,
  "nbformat_minor": 0,
  "metadata": {
    "colab": {
      "name": "LinearRegression.ipynb",
      "provenance": [],
      "collapsed_sections": [],
      "authorship_tag": "ABX9TyMjh0IfC8XUm+cpfPd9KWgm",
      "include_colab_link": true
    },
    "kernelspec": {
      "name": "python3",
      "display_name": "Python 3"
    },
    "language_info": {
      "name": "python"
    }
  },
  "cells": [
    {
      "cell_type": "markdown",
      "metadata": {
        "id": "view-in-github",
        "colab_type": "text"
      },
      "source": [
        "<a href=\"https://colab.research.google.com/github/rushikeshnaik779/tfcerti/blob/main/LinearRegression.ipynb\" target=\"_parent\"><img src=\"https://colab.research.google.com/assets/colab-badge.svg\" alt=\"Open In Colab\"/></a>"
      ]
    },
    {
      "cell_type": "markdown",
      "metadata": {
        "id": "xN5rMmKTsNwi"
      },
      "source": [
        "# If in doubt, code it out "
      ]
    },
    {
      "cell_type": "code",
      "metadata": {
        "id": "VjFwH__csjqg"
      },
      "source": [
        "# Architecture of NN \n",
        "# Input shapes and op shapes  of reg model \n",
        "# creatign custom data to view and fit \n",
        "# steps in modelling \n",
        "    # creating a model, compiling a model, fitting a model, evaluating a model \n",
        "# DIfferent evaluation methods \n",
        "# Saving and Loading models "
      ],
      "execution_count": null,
      "outputs": []
    },
    {
      "cell_type": "markdown",
      "metadata": {
        "id": "3vP8qGcjtp4I"
      },
      "source": [
        "# Creating a sample regression data \n",
        "\n",
        "Predicting a number "
      ]
    },
    {
      "cell_type": "code",
      "metadata": {
        "colab": {
          "base_uri": "https://localhost:8080/"
        },
        "id": "AeH0SI7Wxksa",
        "outputId": "37c47604-c5a0-41f4-cf88-bc9e0b9292f2"
      },
      "source": [
        "## Imports \n",
        "\n",
        "import tensorflow as tf \n",
        "\n",
        "print(tf.__version__)"
      ],
      "execution_count": null,
      "outputs": [
        {
          "output_type": "stream",
          "text": [
            "2.5.0\n"
          ],
          "name": "stdout"
        }
      ]
    },
    {
      "cell_type": "code",
      "metadata": {
        "colab": {
          "base_uri": "https://localhost:8080/"
        },
        "id": "bCJOnmjIxsP2",
        "outputId": "82d14bcd-515a-4d98-aedd-bfc1a10c0ca9"
      },
      "source": [
        "#data to view and fit \n",
        "\n",
        "import numpy as np\n",
        "import matplotlib.pyplot as plt \n",
        "import seaborn as sns \n",
        "\n",
        "# create  features \n",
        "X = np.array([-10., -7., 1., 4., 8., 6., 10., 14., 15. ])\n",
        "\n",
        "# creating labels \n",
        "y = np.array([10.0,  7., -1., -4., -8., -6., -10., -14., -15.])\n",
        "\n",
        "X, y"
      ],
      "execution_count": null,
      "outputs": [
        {
          "output_type": "execute_result",
          "data": {
            "text/plain": [
              "(array([-10.,  -7.,   1.,   4.,   8.,   6.,  10.,  14.,  15.]),\n",
              " array([ 10.,   7.,  -1.,  -4.,  -8.,  -6., -10., -14., -15.]))"
            ]
          },
          "metadata": {
            "tags": []
          },
          "execution_count": 3
        }
      ]
    },
    {
      "cell_type": "code",
      "metadata": {
        "colab": {
          "base_uri": "https://localhost:8080/"
        },
        "id": "J5mLlerSyHxF",
        "outputId": "1caeecb3-3f70-4bfa-f1b7-4589967e8882"
      },
      "source": [
        "# visualize it \n",
        "plt.scatter(X, y)"
      ],
      "execution_count": null,
      "outputs": [
        {
          "output_type": "execute_result",
          "data": {
            "text/plain": [
              "<matplotlib.collections.PathCollection at 0x7f487ad8df90>"
            ]
          },
          "metadata": {
            "tags": []
          },
          "execution_count": 4
        },
        {
          "output_type": "display_data",
          "data": {
            "image/png": "[encoded data removed]",
            "text/plain": [
              "<Figure size 432x288 with 1 Axes>"
            ]
          },
          "metadata": {
            "tags": [],
            "needs_background": "light"
          }
        }
      ]
    },
    {
      "cell_type": "code",
      "metadata": {
        "colab": {
          "base_uri": "https://localhost:8080/"
        },
        "id": "ySuiUoyfyg-d",
        "outputId": "cf021c4a-5512-472f-ac89-7f931198b26c"
      },
      "source": [
        "y == - X"
      ],
      "execution_count": null,
      "outputs": [
        {
          "output_type": "execute_result",
          "data": {
            "text/plain": [
              "array([ True,  True,  True,  True,  True,  True,  True,  True,  True])"
            ]
          },
          "metadata": {
            "tags": []
          },
          "execution_count": 5
        }
      ]
    },
    {
      "cell_type": "markdown",
      "metadata": {
        "id": "5_pGmVg9y5xa"
      },
      "source": [
        "# Input and Output shapes \n",
        "\n",
        "#### creating a demo tensor for our housing price prediction problem \n",
        "\n"
      ]
    },
    {
      "cell_type": "code",
      "metadata": {
        "colab": {
          "base_uri": "https://localhost:8080/"
        },
        "id": "ZwE7b-eSzOh3",
        "outputId": "9fe4902d-ec5d-4716-ed68-0d26c8b04304"
      },
      "source": [
        "house_info = tf.constant([\"bedroom\", \"bathroom\", \"garage\"])\n",
        "house_price = tf.constant([939700])\n",
        "\n",
        "house_info, house_price"
      ],
      "execution_count": null,
      "outputs": [
        {
          "output_type": "execute_result",
          "data": {
            "text/plain": [
              "(<tf.Tensor: shape=(3,), dtype=string, numpy=array([b'bedroom', b'bathroom', b'garage'], dtype=object)>,\n",
              " <tf.Tensor: shape=(1,), dtype=int32, numpy=array([939700], dtype=int32)>)"
            ]
          },
          "metadata": {
            "tags": []
          },
          "execution_count": 6
        }
      ]
    },
    {
      "cell_type": "code",
      "metadata": {
        "colab": {
          "base_uri": "https://localhost:8080/"
        },
        "id": "jzknCTMUze8r",
        "outputId": "7943e4b1-7106-47dd-8d7d-0ea8ac2e88be"
      },
      "source": [
        "input_shape = X.shape\n",
        "output_shape = y.shape\n",
        "input_shape, output_shape"
      ],
      "execution_count": null,
      "outputs": [
        {
          "output_type": "execute_result",
          "data": {
            "text/plain": [
              "((9,), (9,))"
            ]
          },
          "metadata": {
            "tags": []
          },
          "execution_count": 7
        }
      ]
    },
    {
      "cell_type": "code",
      "metadata": {
        "colab": {
          "base_uri": "https://localhost:8080/"
        },
        "id": "qVmYqrgd0Iii",
        "outputId": "46eba0ce-0bb9-4a22-dddd-07d05484ea5c"
      },
      "source": [
        "X[0].shape, y[0].shape"
      ],
      "execution_count": null,
      "outputs": [
        {
          "output_type": "execute_result",
          "data": {
            "text/plain": [
              "((), ())"
            ]
          },
          "metadata": {
            "tags": []
          },
          "execution_count": 8
        }
      ]
    },
    {
      "cell_type": "code",
      "metadata": {
        "colab": {
          "base_uri": "https://localhost:8080/"
        },
        "id": "jqnhyIDz0PRi",
        "outputId": "39f9b457-3c50-4201-99c7-cb5d57aa1476"
      },
      "source": [
        "X.ndim"
      ],
      "execution_count": null,
      "outputs": [
        {
          "output_type": "execute_result",
          "data": {
            "text/plain": [
              "1"
            ]
          },
          "metadata": {
            "tags": []
          },
          "execution_count": 9
        }
      ]
    },
    {
      "cell_type": "markdown",
      "metadata": {
        "id": "o2gBT3Qq0TSn"
      },
      "source": [
        "## The major steps in modeling with tensorflow "
      ]
    },
    {
      "cell_type": "code",
      "metadata": {
        "id": "0zH7RE2U10r9"
      },
      "source": [
        "# Turn our numpy arrays into tensors \n",
        "X = tf.constant(X)\n",
        "y = tf.constant(y)"
      ],
      "execution_count": null,
      "outputs": []
    },
    {
      "cell_type": "code",
      "metadata": {
        "colab": {
          "base_uri": "https://localhost:8080/"
        },
        "id": "xJnTvEtR18_Y",
        "outputId": "701cd08e-a05a-4771-912e-859c37f31322"
      },
      "source": [
        "X, y"
      ],
      "execution_count": null,
      "outputs": [
        {
          "output_type": "execute_result",
          "data": {
            "text/plain": [
              "(<tf.Tensor: shape=(9,), dtype=float64, numpy=array([-10.,  -7.,   1.,   4.,   8.,   6.,  10.,  14.,  15.])>,\n",
              " <tf.Tensor: shape=(9,), dtype=float64, numpy=array([ 10.,   7.,  -1.,  -4.,  -8.,  -6., -10., -14., -15.])>)"
            ]
          },
          "metadata": {
            "tags": []
          },
          "execution_count": 11
        }
      ]
    },
    {
      "cell_type": "markdown",
      "metadata": {
        "id": "fP0ani-_1_Op"
      },
      "source": [
        "# Steps in modeling with tensor flow "
      ]
    },
    {
      "cell_type": "code",
      "metadata": {
        "colab": {
          "base_uri": "https://localhost:8080/"
        },
        "id": "lJaXPAW_81hQ",
        "outputId": "2713e34e-a6cc-4053-c365-3541dafcc835"
      },
      "source": [
        "tf.random.set_seed(42)\n",
        "\n",
        "# 1. Create a model using the sequential API \n",
        "model = tf.keras.Sequential([\n",
        "        tf.keras.layers.Dense(1)\n",
        "])\n",
        "\n",
        "# 2. Compile the model \n",
        "model.compile(\n",
        "    loss = tf.keras.losses.mse, \n",
        "    optimizer = tf.keras.optimizers.SGD(),\n",
        "    metrics = [\"mse\"]\n",
        ")\n",
        "\n",
        "# 3. Fit the model \n",
        "model.fit(X, y, epochs=100)"
      ],
      "execution_count": null,
      "outputs": [
        {
          "output_type": "stream",
          "text": [
            "Epoch 1/100\n",
            "1/1 [==============================] - 1s 623ms/step - loss: 215.5583 - mse: 215.5583\n",
            "Epoch 2/100\n",
            "1/1 [==============================] - 0s 5ms/step - loss: 122.4454 - mse: 122.4454\n",
            "Epoch 3/100\n",
            "1/1 [==============================] - 0s 6ms/step - loss: 69.5546 - mse: 69.5546\n",
            "Epoch 4/100\n",
            "1/1 [==============================] - 0s 4ms/step - loss: 39.5110 - mse: 39.5110\n",
            "Epoch 5/100\n",
            "1/1 [==============================] - 0s 8ms/step - loss: 22.4453 - mse: 22.4453\n",
            "Epoch 6/100\n",
            "1/1 [==============================] - 0s 6ms/step - loss: 12.7514 - mse: 12.7514\n",
            "Epoch 7/100\n",
            "1/1 [==============================] - 0s 7ms/step - loss: 7.2450 - mse: 7.2450\n",
            "Epoch 8/100\n",
            "1/1 [==============================] - 0s 6ms/step - loss: 4.1171 - mse: 4.1171\n",
            "Epoch 9/100\n",
            "1/1 [==============================] - 0s 8ms/step - loss: 2.3403 - mse: 2.3403\n",
            "Epoch 10/100\n",
            "1/1 [==============================] - 0s 6ms/step - loss: 1.3310 - mse: 1.3310\n",
            "Epoch 11/100\n",
            "1/1 [==============================] - 0s 5ms/step - loss: 0.7576 - mse: 0.7576\n",
            "Epoch 12/100\n",
            "1/1 [==============================] - 0s 4ms/step - loss: 0.4319 - mse: 0.4319\n",
            "Epoch 13/100\n",
            "1/1 [==============================] - 0s 4ms/step - loss: 0.2468 - mse: 0.2468\n",
            "Epoch 14/100\n",
            "1/1 [==============================] - 0s 7ms/step - loss: 0.1416 - mse: 0.1416\n",
            "Epoch 15/100\n",
            "1/1 [==============================] - 0s 4ms/step - loss: 0.0818 - mse: 0.0818\n",
            "Epoch 16/100\n",
            "1/1 [==============================] - 0s 4ms/step - loss: 0.0478 - mse: 0.0478\n",
            "Epoch 17/100\n",
            "1/1 [==============================] - 0s 3ms/step - loss: 0.0285 - mse: 0.0285\n",
            "Epoch 18/100\n",
            "1/1 [==============================] - 0s 5ms/step - loss: 0.0174 - mse: 0.0174\n",
            "Epoch 19/100\n",
            "1/1 [==============================] - 0s 3ms/step - loss: 0.0111 - mse: 0.0111\n",
            "Epoch 20/100\n",
            "1/1 [==============================] - 0s 6ms/step - loss: 0.0075 - mse: 0.0075\n",
            "Epoch 21/100\n",
            "1/1 [==============================] - 0s 15ms/step - loss: 0.0054 - mse: 0.0054\n",
            "Epoch 22/100\n",
            "1/1 [==============================] - 0s 6ms/step - loss: 0.0042 - mse: 0.0042\n",
            "Epoch 23/100\n",
            "1/1 [==============================] - 0s 7ms/step - loss: 0.0035 - mse: 0.0035\n",
            "Epoch 24/100\n",
            "1/1 [==============================] - 0s 5ms/step - loss: 0.0030 - mse: 0.0030\n",
            "Epoch 25/100\n",
            "1/1 [==============================] - 0s 7ms/step - loss: 0.0027 - mse: 0.0027\n",
            "Epoch 26/100\n",
            "1/1 [==============================] - 0s 4ms/step - loss: 0.0026 - mse: 0.0026\n",
            "Epoch 27/100\n",
            "1/1 [==============================] - 0s 4ms/step - loss: 0.0024 - mse: 0.0024\n",
            "Epoch 28/100\n",
            "1/1 [==============================] - 0s 7ms/step - loss: 0.0023 - mse: 0.0023\n",
            "Epoch 29/100\n",
            "1/1 [==============================] - 0s 4ms/step - loss: 0.0022 - mse: 0.0022\n",
            "Epoch 30/100\n",
            "1/1 [==============================] - 0s 5ms/step - loss: 0.0021 - mse: 0.0021\n",
            "Epoch 31/100\n",
            "1/1 [==============================] - 0s 5ms/step - loss: 0.0021 - mse: 0.0021\n",
            "Epoch 32/100\n",
            "1/1 [==============================] - 0s 6ms/step - loss: 0.0020 - mse: 0.0020\n",
            "Epoch 33/100\n",
            "1/1 [==============================] - 0s 4ms/step - loss: 0.0019 - mse: 0.0019\n",
            "Epoch 34/100\n",
            "1/1 [==============================] - 0s 6ms/step - loss: 0.0019 - mse: 0.0019\n",
            "Epoch 35/100\n",
            "1/1 [==============================] - 0s 6ms/step - loss: 0.0018 - mse: 0.0018\n",
            "Epoch 36/100\n",
            "1/1 [==============================] - 0s 7ms/step - loss: 0.0018 - mse: 0.0018\n",
            "Epoch 37/100\n",
            "1/1 [==============================] - 0s 4ms/step - loss: 0.0017 - mse: 0.0017\n",
            "Epoch 38/100\n",
            "1/1 [==============================] - 0s 4ms/step - loss: 0.0017 - mse: 0.0017\n",
            "Epoch 39/100\n",
            "1/1 [==============================] - 0s 5ms/step - loss: 0.0016 - mse: 0.0016\n",
            "Epoch 40/100\n",
            "1/1 [==============================] - 0s 5ms/step - loss: 0.0016 - mse: 0.0016\n",
            "Epoch 41/100\n",
            "1/1 [==============================] - 0s 4ms/step - loss: 0.0015 - mse: 0.0015\n",
            "Epoch 42/100\n",
            "1/1 [==============================] - 0s 4ms/step - loss: 0.0015 - mse: 0.0015\n",
            "Epoch 43/100\n",
            "1/1 [==============================] - 0s 7ms/step - loss: 0.0014 - mse: 0.0014\n",
            "Epoch 44/100\n",
            "1/1 [==============================] - 0s 5ms/step - loss: 0.0014 - mse: 0.0014\n",
            "Epoch 45/100\n",
            "1/1 [==============================] - 0s 6ms/step - loss: 0.0013 - mse: 0.0013\n",
            "Epoch 46/100\n",
            "1/1 [==============================] - 0s 5ms/step - loss: 0.0013 - mse: 0.0013\n",
            "Epoch 47/100\n",
            "1/1 [==============================] - 0s 4ms/step - loss: 0.0013 - mse: 0.0013\n",
            "Epoch 48/100\n",
            "1/1 [==============================] - 0s 5ms/step - loss: 0.0012 - mse: 0.0012\n",
            "Epoch 49/100\n",
            "1/1 [==============================] - 0s 5ms/step - loss: 0.0012 - mse: 0.0012\n",
            "Epoch 50/100\n",
            "1/1 [==============================] - 0s 7ms/step - loss: 0.0011 - mse: 0.0011\n",
            "Epoch 51/100\n",
            "1/1 [==============================] - 0s 4ms/step - loss: 0.0011 - mse: 0.0011\n",
            "Epoch 52/100\n",
            "1/1 [==============================] - 0s 10ms/step - loss: 0.0011 - mse: 0.0011\n",
            "Epoch 53/100\n",
            "1/1 [==============================] - 0s 4ms/step - loss: 0.0010 - mse: 0.0010\n",
            "Epoch 54/100\n",
            "1/1 [==============================] - 0s 4ms/step - loss: 0.0010 - mse: 0.0010\n",
            "Epoch 55/100\n",
            "1/1 [==============================] - 0s 3ms/step - loss: 9.8632e-04 - mse: 9.8632e-04\n",
            "Epoch 56/100\n",
            "1/1 [==============================] - 0s 5ms/step - loss: 9.5655e-04 - mse: 9.5655e-04\n",
            "Epoch 57/100\n",
            "1/1 [==============================] - 0s 7ms/step - loss: 9.2766e-04 - mse: 9.2766e-04\n",
            "Epoch 58/100\n",
            "1/1 [==============================] - 0s 4ms/step - loss: 8.9964e-04 - mse: 8.9964e-04\n",
            "Epoch 59/100\n",
            "1/1 [==============================] - 0s 8ms/step - loss: 8.7250e-04 - mse: 8.7250e-04\n",
            "Epoch 60/100\n",
            "1/1 [==============================] - 0s 4ms/step - loss: 8.4615e-04 - mse: 8.4615e-04\n",
            "Epoch 61/100\n",
            "1/1 [==============================] - 0s 4ms/step - loss: 8.2060e-04 - mse: 8.2060e-04\n",
            "Epoch 62/100\n",
            "1/1 [==============================] - 0s 6ms/step - loss: 7.9584e-04 - mse: 7.9584e-04\n",
            "Epoch 63/100\n",
            "1/1 [==============================] - 0s 6ms/step - loss: 7.7180e-04 - mse: 7.7180e-04\n",
            "Epoch 64/100\n",
            "1/1 [==============================] - 0s 7ms/step - loss: 7.4849e-04 - mse: 7.4849e-04\n",
            "Epoch 65/100\n",
            "1/1 [==============================] - 0s 5ms/step - loss: 7.2589e-04 - mse: 7.2589e-04\n",
            "Epoch 66/100\n",
            "1/1 [==============================] - 0s 6ms/step - loss: 7.0398e-04 - mse: 7.0398e-04\n",
            "Epoch 67/100\n",
            "1/1 [==============================] - 0s 4ms/step - loss: 6.8274e-04 - mse: 6.8274e-04\n",
            "Epoch 68/100\n",
            "1/1 [==============================] - 0s 5ms/step - loss: 6.6212e-04 - mse: 6.6212e-04\n",
            "Epoch 69/100\n",
            "1/1 [==============================] - 0s 6ms/step - loss: 6.4212e-04 - mse: 6.4212e-04\n",
            "Epoch 70/100\n",
            "1/1 [==============================] - 0s 5ms/step - loss: 6.2273e-04 - mse: 6.2273e-04\n",
            "Epoch 71/100\n",
            "1/1 [==============================] - 0s 5ms/step - loss: 6.0393e-04 - mse: 6.0393e-04\n",
            "Epoch 72/100\n",
            "1/1 [==============================] - 0s 5ms/step - loss: 5.8570e-04 - mse: 5.8570e-04\n",
            "Epoch 73/100\n",
            "1/1 [==============================] - 0s 4ms/step - loss: 5.6802e-04 - mse: 5.6802e-04\n",
            "Epoch 74/100\n",
            "1/1 [==============================] - 0s 5ms/step - loss: 5.5087e-04 - mse: 5.5087e-04\n",
            "Epoch 75/100\n",
            "1/1 [==============================] - 0s 5ms/step - loss: 5.3424e-04 - mse: 5.3424e-04\n",
            "Epoch 76/100\n",
            "1/1 [==============================] - 0s 4ms/step - loss: 5.1811e-04 - mse: 5.1811e-04\n",
            "Epoch 77/100\n",
            "1/1 [==============================] - 0s 5ms/step - loss: 5.0246e-04 - mse: 5.0246e-04\n",
            "Epoch 78/100\n",
            "1/1 [==============================] - 0s 8ms/step - loss: 4.8730e-04 - mse: 4.8730e-04\n",
            "Epoch 79/100\n",
            "1/1 [==============================] - 0s 6ms/step - loss: 4.7258e-04 - mse: 4.7258e-04\n",
            "Epoch 80/100\n",
            "1/1 [==============================] - 0s 5ms/step - loss: 4.5831e-04 - mse: 4.5831e-04\n",
            "Epoch 81/100\n",
            "1/1 [==============================] - 0s 8ms/step - loss: 4.4447e-04 - mse: 4.4447e-04\n",
            "Epoch 82/100\n",
            "1/1 [==============================] - 0s 8ms/step - loss: 4.3105e-04 - mse: 4.3105e-04\n",
            "Epoch 83/100\n",
            "1/1 [==============================] - 0s 6ms/step - loss: 4.1804e-04 - mse: 4.1804e-04\n",
            "Epoch 84/100\n",
            "1/1 [==============================] - 0s 7ms/step - loss: 4.0542e-04 - mse: 4.0542e-04\n",
            "Epoch 85/100\n",
            "1/1 [==============================] - 0s 8ms/step - loss: 3.9318e-04 - mse: 3.9318e-04\n",
            "Epoch 86/100\n",
            "1/1 [==============================] - 0s 4ms/step - loss: 3.8131e-04 - mse: 3.8131e-04\n",
            "Epoch 87/100\n",
            "1/1 [==============================] - 0s 4ms/step - loss: 3.6979e-04 - mse: 3.6979e-04\n",
            "Epoch 88/100\n",
            "1/1 [==============================] - 0s 6ms/step - loss: 3.5864e-04 - mse: 3.5864e-04\n",
            "Epoch 89/100\n",
            "1/1 [==============================] - 0s 6ms/step - loss: 3.4780e-04 - mse: 3.4780e-04\n",
            "Epoch 90/100\n",
            "1/1 [==============================] - 0s 8ms/step - loss: 3.3730e-04 - mse: 3.3730e-04\n",
            "Epoch 91/100\n",
            "1/1 [==============================] - 0s 7ms/step - loss: 3.2712e-04 - mse: 3.2712e-04\n",
            "Epoch 92/100\n",
            "1/1 [==============================] - 0s 7ms/step - loss: 3.1725e-04 - mse: 3.1725e-04\n",
            "Epoch 93/100\n",
            "1/1 [==============================] - 0s 19ms/step - loss: 3.0766e-04 - mse: 3.0766e-04\n",
            "Epoch 94/100\n",
            "1/1 [==============================] - 0s 7ms/step - loss: 2.9838e-04 - mse: 2.9838e-04\n",
            "Epoch 95/100\n",
            "1/1 [==============================] - 0s 7ms/step - loss: 2.8936e-04 - mse: 2.8936e-04\n",
            "Epoch 96/100\n",
            "1/1 [==============================] - 0s 4ms/step - loss: 2.8063e-04 - mse: 2.8063e-04\n",
            "Epoch 97/100\n",
            "1/1 [==============================] - 0s 6ms/step - loss: 2.7216e-04 - mse: 2.7216e-04\n",
            "Epoch 98/100\n",
            "1/1 [==============================] - 0s 21ms/step - loss: 2.6393e-04 - mse: 2.6393e-04\n",
            "Epoch 99/100\n",
            "1/1 [==============================] - 0s 7ms/step - loss: 2.5597e-04 - mse: 2.5597e-04\n",
            "Epoch 100/100\n",
            "1/1 [==============================] - 0s 7ms/step - loss: 2.4823e-04 - mse: 2.4823e-04\n"
          ],
          "name": "stdout"
        },
        {
          "output_type": "execute_result",
          "data": {
            "text/plain": [
              "<tensorflow.python.keras.callbacks.History at 0x7f4876fc0b50>"
            ]
          },
          "metadata": {
            "tags": []
          },
          "execution_count": 12
        }
      ]
    },
    {
      "cell_type": "code",
      "metadata": {
        "colab": {
          "base_uri": "https://localhost:8080/"
        },
        "id": "MFx3bIkw9ZlB",
        "outputId": "c972af08-f0f4-4023-e594-8d4cf93e4c65"
      },
      "source": [
        "model.predict([250])"
      ],
      "execution_count": null,
      "outputs": [
        {
          "output_type": "execute_result",
          "data": {
            "text/plain": [
              "array([[-249.78436]], dtype=float32)"
            ]
          },
          "metadata": {
            "tags": []
          },
          "execution_count": 13
        }
      ]
    },
    {
      "cell_type": "code",
      "metadata": {
        "colab": {
          "base_uri": "https://localhost:8080/"
        },
        "id": "MoCocfiD9klX",
        "outputId": "fb9cccff-42f0-4bf3-abb9-536897ab7125"
      },
      "source": [
        "tf.random.set_seed(42)\n",
        "\n",
        "# create a model using the sequential API \n",
        "\n",
        "model = tf.keras.Sequential([\n",
        "                             tf.keras.layers.Dense(1)\n",
        "])\n",
        "\n",
        "model.compile(\n",
        "    loss = tf.keras.losses.mae, \n",
        "    optimizer = tf.keras.optimizers.SGD(), \n",
        "    metrics = [\"mae\"]\n",
        ")\n",
        "\n",
        "model.fit(X, y, epochs = 5, verbose=10)"
      ],
      "execution_count": null,
      "outputs": [
        {
          "output_type": "stream",
          "text": [
            "Epoch 1/5\n",
            "Epoch 2/5\n",
            "Epoch 3/5\n",
            "Epoch 4/5\n",
            "Epoch 5/5\n"
          ],
          "name": "stdout"
        },
        {
          "output_type": "execute_result",
          "data": {
            "text/plain": [
              "<tensorflow.python.keras.callbacks.History at 0x7f4874dbbf10>"
            ]
          },
          "metadata": {
            "tags": []
          },
          "execution_count": 14
        }
      ]
    },
    {
      "cell_type": "code",
      "metadata": {
        "colab": {
          "base_uri": "https://localhost:8080/"
        },
        "id": "dB5lrPkHBDcu",
        "outputId": "192c4fb5-5e6c-4fc3-de88-6ece688e3b92"
      },
      "source": [
        "# Different way to write \n",
        "model = tf.keras.Sequential()\n",
        "\n",
        "model.add(tf.keras.layers.Dense(1))\n",
        "\n",
        "model.compile(\n",
        "    loss = tf.keras.losses.mae, \n",
        "    optimizer = tf.keras.optimizers.SGD(), \n",
        "    metrics = [\"mae\"]\n",
        ")\n",
        "\n",
        "model.fit(X, y, epochs=100)"
      ],
      "execution_count": null,
      "outputs": [
        {
          "output_type": "stream",
          "text": [
            "Epoch 1/100\n",
            "1/1 [==============================] - 0s 275ms/step - loss: 13.7573 - mae: 13.7573\n",
            "Epoch 2/100\n",
            "1/1 [==============================] - 0s 12ms/step - loss: 13.0598 - mae: 13.0598\n",
            "Epoch 3/100\n",
            "1/1 [==============================] - 0s 7ms/step - loss: 12.3622 - mae: 12.3622\n",
            "Epoch 4/100\n",
            "1/1 [==============================] - 0s 5ms/step - loss: 11.6647 - mae: 11.6647\n",
            "Epoch 5/100\n",
            "1/1 [==============================] - 0s 4ms/step - loss: 10.9672 - mae: 10.9672\n",
            "Epoch 6/100\n",
            "1/1 [==============================] - 0s 4ms/step - loss: 10.2696 - mae: 10.2696\n",
            "Epoch 7/100\n",
            "1/1 [==============================] - 0s 4ms/step - loss: 9.5721 - mae: 9.5721\n",
            "Epoch 8/100\n",
            "1/1 [==============================] - 0s 5ms/step - loss: 8.8746 - mae: 8.8746\n",
            "Epoch 9/100\n",
            "1/1 [==============================] - 0s 5ms/step - loss: 8.1770 - mae: 8.1770\n",
            "Epoch 10/100\n",
            "1/1 [==============================] - 0s 4ms/step - loss: 7.4795 - mae: 7.4795\n",
            "Epoch 11/100\n",
            "1/1 [==============================] - 0s 6ms/step - loss: 6.7820 - mae: 6.7820\n",
            "Epoch 12/100\n",
            "1/1 [==============================] - 0s 5ms/step - loss: 6.0844 - mae: 6.0844\n",
            "Epoch 13/100\n",
            "1/1 [==============================] - 0s 8ms/step - loss: 5.3869 - mae: 5.3869\n",
            "Epoch 14/100\n",
            "1/1 [==============================] - 0s 7ms/step - loss: 4.6894 - mae: 4.6894\n",
            "Epoch 15/100\n",
            "1/1 [==============================] - 0s 6ms/step - loss: 3.9919 - mae: 3.9919\n",
            "Epoch 16/100\n",
            "1/1 [==============================] - 0s 6ms/step - loss: 3.2943 - mae: 3.2943\n",
            "Epoch 17/100\n",
            "1/1 [==============================] - 0s 5ms/step - loss: 2.5968 - mae: 2.5968\n",
            "Epoch 18/100\n",
            "1/1 [==============================] - 0s 9ms/step - loss: 1.8993 - mae: 1.8993\n",
            "Epoch 19/100\n",
            "1/1 [==============================] - 0s 7ms/step - loss: 1.2017 - mae: 1.2017\n",
            "Epoch 20/100\n",
            "1/1 [==============================] - 0s 4ms/step - loss: 0.5126 - mae: 0.5126\n",
            "Epoch 21/100\n",
            "1/1 [==============================] - 0s 5ms/step - loss: 0.1767 - mae: 0.1767\n",
            "Epoch 22/100\n",
            "1/1 [==============================] - 0s 4ms/step - loss: 0.4060 - mae: 0.4060\n",
            "Epoch 23/100\n",
            "1/1 [==============================] - 0s 6ms/step - loss: 0.2822 - mae: 0.2822\n",
            "Epoch 24/100\n",
            "1/1 [==============================] - 0s 6ms/step - loss: 0.4247 - mae: 0.4247\n",
            "Epoch 25/100\n",
            "1/1 [==============================] - 0s 6ms/step - loss: 0.2625 - mae: 0.2625\n",
            "Epoch 26/100\n",
            "1/1 [==============================] - 0s 4ms/step - loss: 0.4435 - mae: 0.4435\n",
            "Epoch 27/100\n",
            "1/1 [==============================] - 0s 4ms/step - loss: 0.2427 - mae: 0.2427\n",
            "Epoch 28/100\n",
            "1/1 [==============================] - 0s 4ms/step - loss: 0.4623 - mae: 0.4623\n",
            "Epoch 29/100\n",
            "1/1 [==============================] - 0s 4ms/step - loss: 0.2230 - mae: 0.2230\n",
            "Epoch 30/100\n",
            "1/1 [==============================] - 0s 4ms/step - loss: 0.4810 - mae: 0.4810\n",
            "Epoch 31/100\n",
            "1/1 [==============================] - 0s 4ms/step - loss: 0.2032 - mae: 0.2032\n",
            "Epoch 32/100\n",
            "1/1 [==============================] - 0s 4ms/step - loss: 0.4998 - mae: 0.4998\n",
            "Epoch 33/100\n",
            "1/1 [==============================] - 0s 4ms/step - loss: 0.1835 - mae: 0.1835\n",
            "Epoch 34/100\n",
            "1/1 [==============================] - 0s 11ms/step - loss: 0.5186 - mae: 0.5186\n",
            "Epoch 35/100\n",
            "1/1 [==============================] - 0s 5ms/step - loss: 0.1637 - mae: 0.1637\n",
            "Epoch 36/100\n",
            "1/1 [==============================] - 0s 5ms/step - loss: 0.5373 - mae: 0.5373\n",
            "Epoch 37/100\n",
            "1/1 [==============================] - 0s 5ms/step - loss: 0.1461 - mae: 0.1461\n",
            "Epoch 38/100\n",
            "1/1 [==============================] - 0s 7ms/step - loss: 0.4307 - mae: 0.4307\n",
            "Epoch 39/100\n",
            "1/1 [==============================] - 0s 6ms/step - loss: 0.2526 - mae: 0.2526\n",
            "Epoch 40/100\n",
            "1/1 [==============================] - 0s 9ms/step - loss: 0.4494 - mae: 0.4494\n",
            "Epoch 41/100\n",
            "1/1 [==============================] - 0s 4ms/step - loss: 0.2328 - mae: 0.2328\n",
            "Epoch 42/100\n",
            "1/1 [==============================] - 0s 10ms/step - loss: 0.4682 - mae: 0.4682\n",
            "Epoch 43/100\n",
            "1/1 [==============================] - 0s 5ms/step - loss: 0.2131 - mae: 0.2131\n",
            "Epoch 44/100\n",
            "1/1 [==============================] - 0s 5ms/step - loss: 0.4870 - mae: 0.4870\n",
            "Epoch 45/100\n",
            "1/1 [==============================] - 0s 5ms/step - loss: 0.1933 - mae: 0.1933\n",
            "Epoch 46/100\n",
            "1/1 [==============================] - 0s 7ms/step - loss: 0.5057 - mae: 0.5057\n",
            "Epoch 47/100\n",
            "1/1 [==============================] - 0s 5ms/step - loss: 0.1736 - mae: 0.1736\n",
            "Epoch 48/100\n",
            "1/1 [==============================] - 0s 7ms/step - loss: 0.5245 - mae: 0.5245\n",
            "Epoch 49/100\n",
            "1/1 [==============================] - 0s 6ms/step - loss: 0.1538 - mae: 0.1538\n",
            "Epoch 50/100\n",
            "1/1 [==============================] - 0s 6ms/step - loss: 0.5437 - mae: 0.5437\n",
            "Epoch 51/100\n",
            "1/1 [==============================] - 0s 6ms/step - loss: 0.1538 - mae: 0.1538\n",
            "Epoch 52/100\n",
            "1/1 [==============================] - 0s 7ms/step - loss: 0.5437 - mae: 0.5437\n",
            "Epoch 53/100\n",
            "1/1 [==============================] - 0s 7ms/step - loss: 0.1538 - mae: 0.1538\n",
            "Epoch 54/100\n",
            "1/1 [==============================] - 0s 5ms/step - loss: 0.5437 - mae: 0.5437\n",
            "Epoch 55/100\n",
            "1/1 [==============================] - 0s 6ms/step - loss: 0.1538 - mae: 0.1538\n",
            "Epoch 56/100\n",
            "1/1 [==============================] - 0s 4ms/step - loss: 0.5437 - mae: 0.5437\n",
            "Epoch 57/100\n",
            "1/1 [==============================] - 0s 7ms/step - loss: 0.1538 - mae: 0.1538\n",
            "Epoch 58/100\n",
            "1/1 [==============================] - 0s 6ms/step - loss: 0.5437 - mae: 0.5437\n",
            "Epoch 59/100\n",
            "1/1 [==============================] - 0s 7ms/step - loss: 0.1538 - mae: 0.1538\n",
            "Epoch 60/100\n",
            "1/1 [==============================] - 0s 14ms/step - loss: 0.5437 - mae: 0.5437\n",
            "Epoch 61/100\n",
            "1/1 [==============================] - 0s 6ms/step - loss: 0.1538 - mae: 0.1538\n",
            "Epoch 62/100\n",
            "1/1 [==============================] - 0s 9ms/step - loss: 0.5437 - mae: 0.5437\n",
            "Epoch 63/100\n",
            "1/1 [==============================] - 0s 7ms/step - loss: 0.1538 - mae: 0.1538\n",
            "Epoch 64/100\n",
            "1/1 [==============================] - 0s 15ms/step - loss: 0.5437 - mae: 0.5437\n",
            "Epoch 65/100\n",
            "1/1 [==============================] - 0s 4ms/step - loss: 0.1538 - mae: 0.1538\n",
            "Epoch 66/100\n",
            "1/1 [==============================] - 0s 5ms/step - loss: 0.5437 - mae: 0.5437\n",
            "Epoch 67/100\n",
            "1/1 [==============================] - 0s 3ms/step - loss: 0.1538 - mae: 0.1538\n",
            "Epoch 68/100\n",
            "1/1 [==============================] - 0s 13ms/step - loss: 0.5437 - mae: 0.5437\n",
            "Epoch 69/100\n",
            "1/1 [==============================] - 0s 3ms/step - loss: 0.1538 - mae: 0.1538\n",
            "Epoch 70/100\n",
            "1/1 [==============================] - 0s 17ms/step - loss: 0.5437 - mae: 0.5437\n",
            "Epoch 71/100\n",
            "1/1 [==============================] - 0s 6ms/step - loss: 0.1538 - mae: 0.1538\n",
            "Epoch 72/100\n",
            "1/1 [==============================] - 0s 4ms/step - loss: 0.5437 - mae: 0.5437\n",
            "Epoch 73/100\n",
            "1/1 [==============================] - 0s 6ms/step - loss: 0.1538 - mae: 0.1538\n",
            "Epoch 74/100\n",
            "1/1 [==============================] - 0s 4ms/step - loss: 0.5437 - mae: 0.5437\n",
            "Epoch 75/100\n",
            "1/1 [==============================] - 0s 4ms/step - loss: 0.1538 - mae: 0.1538\n",
            "Epoch 76/100\n",
            "1/1 [==============================] - 0s 4ms/step - loss: 0.5437 - mae: 0.5437\n",
            "Epoch 77/100\n",
            "1/1 [==============================] - 0s 6ms/step - loss: 0.1538 - mae: 0.1538\n",
            "Epoch 78/100\n",
            "1/1 [==============================] - 0s 4ms/step - loss: 0.5437 - mae: 0.5437\n",
            "Epoch 79/100\n",
            "1/1 [==============================] - 0s 5ms/step - loss: 0.1538 - mae: 0.1538\n",
            "Epoch 80/100\n",
            "1/1 [==============================] - 0s 4ms/step - loss: 0.5437 - mae: 0.5437\n",
            "Epoch 81/100\n",
            "1/1 [==============================] - 0s 9ms/step - loss: 0.1538 - mae: 0.1538\n",
            "Epoch 82/100\n",
            "1/1 [==============================] - 0s 6ms/step - loss: 0.5437 - mae: 0.5437\n",
            "Epoch 83/100\n",
            "1/1 [==============================] - 0s 4ms/step - loss: 0.1538 - mae: 0.1538\n",
            "Epoch 84/100\n",
            "1/1 [==============================] - 0s 5ms/step - loss: 0.5437 - mae: 0.5437\n",
            "Epoch 85/100\n",
            "1/1 [==============================] - 0s 5ms/step - loss: 0.1538 - mae: 0.1538\n",
            "Epoch 86/100\n",
            "1/1 [==============================] - 0s 5ms/step - loss: 0.5437 - mae: 0.5437\n",
            "Epoch 87/100\n",
            "1/1 [==============================] - 0s 5ms/step - loss: 0.1538 - mae: 0.1538\n",
            "Epoch 88/100\n",
            "1/1 [==============================] - 0s 5ms/step - loss: 0.5437 - mae: 0.5437\n",
            "Epoch 89/100\n",
            "1/1 [==============================] - 0s 8ms/step - loss: 0.1538 - mae: 0.1538\n",
            "Epoch 90/100\n",
            "1/1 [==============================] - 0s 4ms/step - loss: 0.5437 - mae: 0.5437\n",
            "Epoch 91/100\n",
            "1/1 [==============================] - 0s 4ms/step - loss: 0.1538 - mae: 0.1538\n",
            "Epoch 92/100\n",
            "1/1 [==============================] - 0s 7ms/step - loss: 0.5437 - mae: 0.5437\n",
            "Epoch 93/100\n",
            "1/1 [==============================] - 0s 5ms/step - loss: 0.1538 - mae: 0.1538\n",
            "Epoch 94/100\n",
            "1/1 [==============================] - 0s 7ms/step - loss: 0.5437 - mae: 0.5437\n",
            "Epoch 95/100\n",
            "1/1 [==============================] - 0s 12ms/step - loss: 0.1538 - mae: 0.1538\n",
            "Epoch 96/100\n",
            "1/1 [==============================] - 0s 6ms/step - loss: 0.5437 - mae: 0.5437\n",
            "Epoch 97/100\n",
            "1/1 [==============================] - 0s 5ms/step - loss: 0.1538 - mae: 0.1538\n",
            "Epoch 98/100\n",
            "1/1 [==============================] - 0s 4ms/step - loss: 0.5437 - mae: 0.5437\n",
            "Epoch 99/100\n",
            "1/1 [==============================] - 0s 4ms/step - loss: 0.1538 - mae: 0.1538\n",
            "Epoch 100/100\n",
            "1/1 [==============================] - 0s 4ms/step - loss: 0.5437 - mae: 0.5437\n"
          ],
          "name": "stdout"
        },
        {
          "output_type": "execute_result",
          "data": {
            "text/plain": [
              "<tensorflow.python.keras.callbacks.History at 0x7f4875d48ad0>"
            ]
          },
          "metadata": {
            "tags": []
          },
          "execution_count": 15
        }
      ]
    },
    {
      "cell_type": "code",
      "metadata": {
        "colab": {
          "base_uri": "https://localhost:8080/"
        },
        "id": "Gz61wk_kBbRd",
        "outputId": "84339abf-29ac-4f2c-8b43-6c1ce6efcbd8"
      },
      "source": [
        "model.predict([[10]])"
      ],
      "execution_count": null,
      "outputs": [
        {
          "output_type": "execute_result",
          "data": {
            "text/plain": [
              "array([[-10.209038]], dtype=float32)"
            ]
          },
          "metadata": {
            "tags": []
          },
          "execution_count": 16
        }
      ]
    },
    {
      "cell_type": "code",
      "metadata": {
        "colab": {
          "base_uri": "https://localhost:8080/"
        },
        "id": "6YXYqx4wCL-s",
        "outputId": "e4517706-feab-4565-837c-0ccc9a2ff817"
      },
      "source": [
        "tf.random.set_seed(42)\n",
        "\n",
        "# 1. Create a model using the sequential API \n",
        "model = tf.keras.Sequential([\n",
        "        tf.keras.layers.Dense(1)\n",
        "])\n",
        "\n",
        "# 2. Compile the model \n",
        "model.compile(\n",
        "    loss = tf.keras.losses.mse, \n",
        "    optimizer = tf.keras.optimizers.SGD(),\n",
        "    metrics = [\"mse\"]\n",
        ")\n",
        "\n",
        "# 3. Fit the model \n",
        "model.fit(X, y, epochs=5)"
      ],
      "execution_count": null,
      "outputs": [
        {
          "output_type": "stream",
          "text": [
            "Epoch 1/5\n",
            "1/1 [==============================] - 0s 258ms/step - loss: 215.5583 - mse: 215.5583\n",
            "Epoch 2/5\n",
            "1/1 [==============================] - 0s 4ms/step - loss: 122.4454 - mse: 122.4454\n",
            "Epoch 3/5\n",
            "1/1 [==============================] - 0s 6ms/step - loss: 69.5546 - mse: 69.5546\n",
            "Epoch 4/5\n",
            "1/1 [==============================] - 0s 5ms/step - loss: 39.5110 - mse: 39.5110\n",
            "Epoch 5/5\n",
            "1/1 [==============================] - 0s 7ms/step - loss: 22.4453 - mse: 22.4453\n"
          ],
          "name": "stdout"
        },
        {
          "output_type": "execute_result",
          "data": {
            "text/plain": [
              "<tensorflow.python.keras.callbacks.History at 0x7f4875cb3610>"
            ]
          },
          "metadata": {
            "tags": []
          },
          "execution_count": 17
        }
      ]
    },
    {
      "cell_type": "code",
      "metadata": {
        "colab": {
          "base_uri": "https://localhost:8080/"
        },
        "id": "cX07WwNeCxL_",
        "outputId": "429f3b3a-c38c-45d5-ffcc-6d8b733fcaf5"
      },
      "source": [
        "model.predict([10])"
      ],
      "execution_count": null,
      "outputs": [
        {
          "output_type": "execute_result",
          "data": {
            "text/plain": [
              "array([[-13.863714]], dtype=float32)"
            ]
          },
          "metadata": {
            "tags": []
          },
          "execution_count": 18
        }
      ]
    },
    {
      "cell_type": "markdown",
      "metadata": {
        "id": "7UnsA-jMCzzy"
      },
      "source": [
        "# Improving our model \n",
        "\n",
        "we can improve our model by alrering steps \n",
        "1. **Creating Modle**  here we might add more layers , increase the number of hidden units ( all called neurons) within each of the hidden layers, change the activation functions of each layers \n",
        "\n",
        "2. Compiling a mode : \n",
        "    - optimizaiotn function \n",
        "    - learning rate \n",
        "\n",
        "3. Fitting model \n",
        "    - more epochs \n",
        "    - more data"
      ]
    },
    {
      "cell_type": "code",
      "metadata": {
        "colab": {
          "base_uri": "https://localhost:8080/"
        },
        "id": "ZhiVPw4RC5PV",
        "outputId": "c316c2f8-b46c-4560-f98e-2aee3d2c57ff"
      },
      "source": [
        "# let's rebuild the model \n",
        "model  = tf.keras.Sequential([\n",
        "                              tf.keras.layers.Dense(1)\n",
        "])\n",
        "\n",
        "model.compile(\n",
        "    loss = tf.keras.losses.mae, \n",
        "    optimizer = tf.keras.optimizers.Adam(lr=0.1),\n",
        "    metrics = ['mae']\n",
        ")\n",
        "\n",
        "model.fit(X, y, epochs=30)"
      ],
      "execution_count": null,
      "outputs": [
        {
          "output_type": "stream",
          "text": [
            "Epoch 1/30\n"
          ],
          "name": "stdout"
        },
        {
          "output_type": "stream",
          "text": [
            "/usr/local/lib/python3.7/dist-packages/tensorflow/python/keras/optimizer_v2/optimizer_v2.py:375: UserWarning: The `lr` argument is deprecated, use `learning_rate` instead.\n",
            "  \"The `lr` argument is deprecated, use `learning_rate` instead.\")\n"
          ],
          "name": "stderr"
        },
        {
          "output_type": "stream",
          "text": [
            "1/1 [==============================] - 0s 299ms/step - loss: 13.7573 - mae: 13.7573\n",
            "Epoch 2/30\n",
            "1/1 [==============================] - 0s 5ms/step - loss: 12.8684 - mae: 12.8684\n",
            "Epoch 3/30\n",
            "1/1 [==============================] - 0s 8ms/step - loss: 11.9795 - mae: 11.9795\n",
            "Epoch 4/30\n",
            "1/1 [==============================] - 0s 7ms/step - loss: 11.0906 - mae: 11.0906\n",
            "Epoch 5/30\n",
            "1/1 [==============================] - 0s 12ms/step - loss: 10.2017 - mae: 10.2017\n",
            "Epoch 6/30\n",
            "1/1 [==============================] - 0s 4ms/step - loss: 9.3128 - mae: 9.3128\n",
            "Epoch 7/30\n",
            "1/1 [==============================] - 0s 5ms/step - loss: 8.4240 - mae: 8.4240\n",
            "Epoch 8/30\n",
            "1/1 [==============================] - 0s 5ms/step - loss: 7.5351 - mae: 7.5351\n",
            "Epoch 9/30\n",
            "1/1 [==============================] - 0s 4ms/step - loss: 6.6462 - mae: 6.6462\n",
            "Epoch 10/30\n",
            "1/1 [==============================] - 0s 4ms/step - loss: 5.7904 - mae: 5.7904\n",
            "Epoch 11/30\n",
            "1/1 [==============================] - 0s 5ms/step - loss: 4.9482 - mae: 4.9482\n",
            "Epoch 12/30\n",
            "1/1 [==============================] - 0s 3ms/step - loss: 4.1076 - mae: 4.1076\n",
            "Epoch 13/30\n",
            "1/1 [==============================] - 0s 6ms/step - loss: 3.2684 - mae: 3.2684\n",
            "Epoch 14/30\n",
            "1/1 [==============================] - 0s 4ms/step - loss: 2.4303 - mae: 2.4303\n",
            "Epoch 15/30\n",
            "1/1 [==============================] - 0s 3ms/step - loss: 1.6720 - mae: 1.6720\n",
            "Epoch 16/30\n",
            "1/1 [==============================] - 0s 4ms/step - loss: 1.1150 - mae: 1.1150\n",
            "Epoch 17/30\n",
            "1/1 [==============================] - 0s 4ms/step - loss: 1.2481 - mae: 1.2481\n",
            "Epoch 18/30\n",
            "1/1 [==============================] - 0s 5ms/step - loss: 1.6347 - mae: 1.6347\n",
            "Epoch 19/30\n",
            "1/1 [==============================] - 0s 5ms/step - loss: 1.9269 - mae: 1.9269\n",
            "Epoch 20/30\n",
            "1/1 [==============================] - 0s 18ms/step - loss: 2.1381 - mae: 2.1381\n",
            "Epoch 21/30\n",
            "1/1 [==============================] - 0s 4ms/step - loss: 2.3282 - mae: 2.3282\n",
            "Epoch 22/30\n",
            "1/1 [==============================] - 0s 4ms/step - loss: 2.4559 - mae: 2.4559\n",
            "Epoch 23/30\n",
            "1/1 [==============================] - 0s 3ms/step - loss: 2.5007 - mae: 2.5007\n",
            "Epoch 24/30\n",
            "1/1 [==============================] - 0s 5ms/step - loss: 2.4483 - mae: 2.4483\n",
            "Epoch 25/30\n",
            "1/1 [==============================] - 0s 4ms/step - loss: 2.2950 - mae: 2.2950\n",
            "Epoch 26/30\n",
            "1/1 [==============================] - 0s 4ms/step - loss: 2.0683 - mae: 2.0683\n",
            "Epoch 27/30\n",
            "1/1 [==============================] - 0s 4ms/step - loss: 1.7983 - mae: 1.7983\n",
            "Epoch 28/30\n",
            "1/1 [==============================] - 0s 4ms/step - loss: 1.5101 - mae: 1.5101\n",
            "Epoch 29/30\n",
            "1/1 [==============================] - 0s 3ms/step - loss: 1.2416 - mae: 1.2416\n",
            "Epoch 30/30\n",
            "1/1 [==============================] - 0s 8ms/step - loss: 0.9555 - mae: 0.9555\n"
          ],
          "name": "stdout"
        },
        {
          "output_type": "execute_result",
          "data": {
            "text/plain": [
              "<tensorflow.python.keras.callbacks.History at 0x7f4876e43790>"
            ]
          },
          "metadata": {
            "tags": []
          },
          "execution_count": 19
        }
      ]
    },
    {
      "cell_type": "code",
      "metadata": {
        "colab": {
          "base_uri": "https://localhost:8080/"
        },
        "id": "JOrmdbO4GeK8",
        "outputId": "80e5b306-38fd-468e-b9c7-8c772959151a"
      },
      "source": [
        "model.predict([10.])"
      ],
      "execution_count": null,
      "outputs": [
        {
          "output_type": "execute_result",
          "data": {
            "text/plain": [
              "array([[-10.455321]], dtype=float32)"
            ]
          },
          "metadata": {
            "tags": []
          },
          "execution_count": 20
        }
      ]
    },
    {
      "cell_type": "markdown",
      "metadata": {
        "id": "TMmr4cRLGs4N"
      },
      "source": [
        "# let's see what we can do to improve model \n",
        "\n",
        "1. create the model with extra hidden layer with 100 units "
      ]
    },
    {
      "cell_type": "code",
      "metadata": {
        "colab": {
          "base_uri": "https://localhost:8080/"
        },
        "id": "8ZCzwc2CLIQl",
        "outputId": "c3ce536c-fb36-4d5b-ac5a-30feaf0b4c06"
      },
      "source": [
        "model = tf.keras.Sequential([\n",
        "                             tf.keras.layers.Dense(50, activation=None),\n",
        "                             tf.keras.layers.Dense(1)\n",
        "])\n",
        "\n",
        "model.compile(\n",
        "    loss='mae',\n",
        "    optimizer=tf.keras.optimizers.Adam(lr=0.01),\n",
        "    metrics = [\"mae\"]\n",
        ")\n",
        "\n",
        "\n",
        "model.fit(X, y, epochs=100\n",
        "          )"
      ],
      "execution_count": null,
      "outputs": [
        {
          "output_type": "stream",
          "text": [
            "/usr/local/lib/python3.7/dist-packages/tensorflow/python/keras/optimizer_v2/optimizer_v2.py:375: UserWarning: The `lr` argument is deprecated, use `learning_rate` instead.\n",
            "  \"The `lr` argument is deprecated, use `learning_rate` instead.\")\n"
          ],
          "name": "stderr"
        },
        {
          "output_type": "stream",
          "text": [
            "Epoch 1/100\n",
            "1/1 [==============================] - 0s 390ms/step - loss: 12.4567 - mae: 12.4567\n",
            "Epoch 2/100\n",
            "1/1 [==============================] - 0s 6ms/step - loss: 11.0401 - mae: 11.0401\n",
            "Epoch 3/100\n",
            "1/1 [==============================] - 0s 6ms/step - loss: 9.6411 - mae: 9.6411\n",
            "Epoch 4/100\n",
            "1/1 [==============================] - 0s 6ms/step - loss: 8.2557 - mae: 8.2557\n",
            "Epoch 5/100\n",
            "1/1 [==============================] - 0s 6ms/step - loss: 6.8810 - mae: 6.8810\n",
            "Epoch 6/100\n",
            "1/1 [==============================] - 0s 5ms/step - loss: 5.5129 - mae: 5.5129\n",
            "Epoch 7/100\n",
            "1/1 [==============================] - 0s 6ms/step - loss: 4.1456 - mae: 4.1456\n",
            "Epoch 8/100\n",
            "1/1 [==============================] - 0s 6ms/step - loss: 2.8237 - mae: 2.8237\n",
            "Epoch 9/100\n",
            "1/1 [==============================] - 0s 6ms/step - loss: 1.4978 - mae: 1.4978\n",
            "Epoch 10/100\n",
            "1/1 [==============================] - 0s 5ms/step - loss: 0.5368 - mae: 0.5368\n",
            "Epoch 11/100\n",
            "1/1 [==============================] - 0s 7ms/step - loss: 1.1425 - mae: 1.1425\n",
            "Epoch 12/100\n",
            "1/1 [==============================] - 0s 6ms/step - loss: 1.8461 - mae: 1.8461\n",
            "Epoch 13/100\n",
            "1/1 [==============================] - 0s 5ms/step - loss: 2.2560 - mae: 2.2560\n",
            "Epoch 14/100\n",
            "1/1 [==============================] - 0s 5ms/step - loss: 2.3742 - mae: 2.3742\n",
            "Epoch 15/100\n",
            "1/1 [==============================] - 0s 7ms/step - loss: 2.2624 - mae: 2.2624\n",
            "Epoch 16/100\n",
            "1/1 [==============================] - 0s 5ms/step - loss: 1.9690 - mae: 1.9690\n",
            "Epoch 17/100\n",
            "1/1 [==============================] - 0s 6ms/step - loss: 1.5324 - mae: 1.5324\n",
            "Epoch 18/100\n",
            "1/1 [==============================] - 0s 6ms/step - loss: 0.9836 - mae: 0.9836\n",
            "Epoch 19/100\n",
            "1/1 [==============================] - 0s 6ms/step - loss: 0.5502 - mae: 0.5502\n",
            "Epoch 20/100\n",
            "1/1 [==============================] - 0s 5ms/step - loss: 0.4111 - mae: 0.4111\n",
            "Epoch 21/100\n",
            "1/1 [==============================] - 0s 7ms/step - loss: 0.7864 - mae: 0.7864\n",
            "Epoch 22/100\n",
            "1/1 [==============================] - 0s 5ms/step - loss: 1.0235 - mae: 1.0235\n",
            "Epoch 23/100\n",
            "1/1 [==============================] - 0s 7ms/step - loss: 1.0958 - mae: 1.0958\n",
            "Epoch 24/100\n",
            "1/1 [==============================] - 0s 7ms/step - loss: 1.0265 - mae: 1.0265\n",
            "Epoch 25/100\n",
            "1/1 [==============================] - 0s 7ms/step - loss: 0.8343 - mae: 0.8343\n",
            "Epoch 26/100\n",
            "1/1 [==============================] - 0s 6ms/step - loss: 0.5340 - mae: 0.5340\n",
            "Epoch 27/100\n",
            "1/1 [==============================] - 0s 7ms/step - loss: 0.1825 - mae: 0.1825\n",
            "Epoch 28/100\n",
            "1/1 [==============================] - 0s 6ms/step - loss: 0.3457 - mae: 0.3457\n",
            "Epoch 29/100\n",
            "1/1 [==============================] - 0s 6ms/step - loss: 0.6092 - mae: 0.6092\n",
            "Epoch 30/100\n",
            "1/1 [==============================] - 0s 22ms/step - loss: 0.7084 - mae: 0.7084\n",
            "Epoch 31/100\n",
            "1/1 [==============================] - 0s 8ms/step - loss: 0.6569 - mae: 0.6569\n",
            "Epoch 32/100\n",
            "1/1 [==============================] - 0s 4ms/step - loss: 0.4736 - mae: 0.4736\n",
            "Epoch 33/100\n",
            "1/1 [==============================] - 0s 7ms/step - loss: 0.1764 - mae: 0.1764\n",
            "Epoch 34/100\n",
            "1/1 [==============================] - 0s 4ms/step - loss: 0.2187 - mae: 0.2187\n",
            "Epoch 35/100\n",
            "1/1 [==============================] - 0s 5ms/step - loss: 0.4401 - mae: 0.4401\n",
            "Epoch 36/100\n",
            "1/1 [==============================] - 0s 7ms/step - loss: 0.5100 - mae: 0.5100\n",
            "Epoch 37/100\n",
            "1/1 [==============================] - 0s 6ms/step - loss: 0.4463 - mae: 0.4463\n",
            "Epoch 38/100\n",
            "1/1 [==============================] - 0s 4ms/step - loss: 0.2636 - mae: 0.2636\n",
            "Epoch 39/100\n",
            "1/1 [==============================] - 0s 4ms/step - loss: 0.0447 - mae: 0.0447\n",
            "Epoch 40/100\n",
            "1/1 [==============================] - 0s 6ms/step - loss: 0.2058 - mae: 0.2058\n",
            "Epoch 41/100\n",
            "1/1 [==============================] - 0s 5ms/step - loss: 0.2403 - mae: 0.2403\n",
            "Epoch 42/100\n",
            "1/1 [==============================] - 0s 6ms/step - loss: 0.1541 - mae: 0.1541\n",
            "Epoch 43/100\n",
            "1/1 [==============================] - 0s 7ms/step - loss: 0.0642 - mae: 0.0642\n",
            "Epoch 44/100\n",
            "1/1 [==============================] - 0s 6ms/step - loss: 0.1575 - mae: 0.1575\n",
            "Epoch 45/100\n",
            "1/1 [==============================] - 0s 5ms/step - loss: 0.1294 - mae: 0.1294\n",
            "Epoch 46/100\n",
            "1/1 [==============================] - 0s 7ms/step - loss: 0.0201 - mae: 0.0201\n",
            "Epoch 47/100\n",
            "1/1 [==============================] - 0s 4ms/step - loss: 0.0338 - mae: 0.0338\n",
            "Epoch 48/100\n",
            "1/1 [==============================] - 0s 6ms/step - loss: 0.0758 - mae: 0.0758\n",
            "Epoch 49/100\n",
            "1/1 [==============================] - 0s 8ms/step - loss: 0.0591 - mae: 0.0591\n",
            "Epoch 50/100\n",
            "1/1 [==============================] - 0s 6ms/step - loss: 0.0780 - mae: 0.0780\n",
            "Epoch 51/100\n",
            "1/1 [==============================] - 0s 5ms/step - loss: 0.0767 - mae: 0.0767\n",
            "Epoch 52/100\n",
            "1/1 [==============================] - 0s 7ms/step - loss: 0.0524 - mae: 0.0524\n",
            "Epoch 53/100\n",
            "1/1 [==============================] - 0s 4ms/step - loss: 0.0590 - mae: 0.0590\n",
            "Epoch 54/100\n",
            "1/1 [==============================] - 0s 5ms/step - loss: 0.0560 - mae: 0.0560\n",
            "Epoch 55/100\n",
            "1/1 [==============================] - 0s 6ms/step - loss: 0.0520 - mae: 0.0520\n",
            "Epoch 56/100\n",
            "1/1 [==============================] - 0s 5ms/step - loss: 0.0719 - mae: 0.0719\n",
            "Epoch 57/100\n",
            "1/1 [==============================] - 0s 7ms/step - loss: 0.0669 - mae: 0.0669\n",
            "Epoch 58/100\n",
            "1/1 [==============================] - 0s 6ms/step - loss: 0.0575 - mae: 0.0575\n",
            "Epoch 59/100\n",
            "1/1 [==============================] - 0s 7ms/step - loss: 0.0494 - mae: 0.0494\n",
            "Epoch 60/100\n",
            "1/1 [==============================] - 0s 5ms/step - loss: 0.0743 - mae: 0.0743\n",
            "Epoch 61/100\n",
            "1/1 [==============================] - 0s 7ms/step - loss: 0.0653 - mae: 0.0653\n",
            "Epoch 62/100\n",
            "1/1 [==============================] - 0s 6ms/step - loss: 0.0648 - mae: 0.0648\n",
            "Epoch 63/100\n",
            "1/1 [==============================] - 0s 6ms/step - loss: 0.0646 - mae: 0.0646\n",
            "Epoch 64/100\n",
            "1/1 [==============================] - 0s 7ms/step - loss: 0.0530 - mae: 0.0530\n",
            "Epoch 65/100\n",
            "1/1 [==============================] - 0s 12ms/step - loss: 0.0372 - mae: 0.0372\n",
            "Epoch 66/100\n",
            "1/1 [==============================] - 0s 5ms/step - loss: 0.0964 - mae: 0.0964\n",
            "Epoch 67/100\n",
            "1/1 [==============================] - 0s 5ms/step - loss: 0.0969 - mae: 0.0969\n",
            "Epoch 68/100\n",
            "1/1 [==============================] - 0s 7ms/step - loss: 0.0220 - mae: 0.0220\n",
            "Epoch 69/100\n",
            "1/1 [==============================] - 0s 5ms/step - loss: 0.0123 - mae: 0.0123\n",
            "Epoch 70/100\n",
            "1/1 [==============================] - 0s 8ms/step - loss: 0.0713 - mae: 0.0713\n",
            "Epoch 71/100\n",
            "1/1 [==============================] - 0s 9ms/step - loss: 0.0248 - mae: 0.0248\n",
            "Epoch 72/100\n",
            "1/1 [==============================] - 0s 8ms/step - loss: 0.1358 - mae: 0.1358\n",
            "Epoch 73/100\n",
            "1/1 [==============================] - 0s 8ms/step - loss: 0.1617 - mae: 0.1617\n",
            "Epoch 74/100\n",
            "1/1 [==============================] - 0s 11ms/step - loss: 0.0719 - mae: 0.0719\n",
            "Epoch 75/100\n",
            "1/1 [==============================] - 0s 4ms/step - loss: 0.1327 - mae: 0.1327\n",
            "Epoch 76/100\n",
            "1/1 [==============================] - 0s 4ms/step - loss: 0.1933 - mae: 0.1933\n",
            "Epoch 77/100\n",
            "1/1 [==============================] - 0s 6ms/step - loss: 0.1285 - mae: 0.1285\n",
            "Epoch 78/100\n",
            "1/1 [==============================] - 0s 4ms/step - loss: 0.0594 - mae: 0.0594\n",
            "Epoch 79/100\n",
            "1/1 [==============================] - 0s 5ms/step - loss: 0.1132 - mae: 0.1132\n",
            "Epoch 80/100\n",
            "1/1 [==============================] - 0s 8ms/step - loss: 0.0560 - mae: 0.0560\n",
            "Epoch 81/100\n",
            "1/1 [==============================] - 0s 5ms/step - loss: 0.1064 - mae: 0.1064\n",
            "Epoch 82/100\n",
            "1/1 [==============================] - 0s 6ms/step - loss: 0.1263 - mae: 0.1263\n",
            "Epoch 83/100\n",
            "1/1 [==============================] - 0s 10ms/step - loss: 0.0264 - mae: 0.0264\n",
            "Epoch 84/100\n",
            "1/1 [==============================] - 0s 6ms/step - loss: 0.1639 - mae: 0.1639\n",
            "Epoch 85/100\n",
            "1/1 [==============================] - 0s 7ms/step - loss: 0.2161 - mae: 0.2161\n",
            "Epoch 86/100\n",
            "1/1 [==============================] - 0s 11ms/step - loss: 0.1457 - mae: 0.1457\n",
            "Epoch 87/100\n",
            "1/1 [==============================] - 0s 5ms/step - loss: 0.0390 - mae: 0.0390\n",
            "Epoch 88/100\n",
            "1/1 [==============================] - 0s 7ms/step - loss: 0.0877 - mae: 0.0877\n",
            "Epoch 89/100\n",
            "1/1 [==============================] - 0s 10ms/step - loss: 0.0258 - mae: 0.0258\n",
            "Epoch 90/100\n",
            "1/1 [==============================] - 0s 8ms/step - loss: 0.1260 - mae: 0.1260\n",
            "Epoch 91/100\n",
            "1/1 [==============================] - 0s 10ms/step - loss: 0.1359 - mae: 0.1359\n",
            "Epoch 92/100\n",
            "1/1 [==============================] - 0s 8ms/step - loss: 0.0273 - mae: 0.0273\n",
            "Epoch 93/100\n",
            "1/1 [==============================] - 0s 8ms/step - loss: 0.1885 - mae: 0.1885\n",
            "Epoch 94/100\n",
            "1/1 [==============================] - 0s 8ms/step - loss: 0.2644 - mae: 0.2644\n",
            "Epoch 95/100\n",
            "1/1 [==============================] - 0s 7ms/step - loss: 0.2140 - mae: 0.2140\n",
            "Epoch 96/100\n",
            "1/1 [==============================] - 0s 7ms/step - loss: 0.0506 - mae: 0.0506\n",
            "Epoch 97/100\n",
            "1/1 [==============================] - 0s 13ms/step - loss: 0.2128 - mae: 0.2128\n",
            "Epoch 98/100\n",
            "1/1 [==============================] - 0s 9ms/step - loss: 0.3327 - mae: 0.3327\n",
            "Epoch 99/100\n",
            "1/1 [==============================] - 0s 11ms/step - loss: 0.3250 - mae: 0.3250\n",
            "Epoch 100/100\n",
            "1/1 [==============================] - 0s 8ms/step - loss: 0.2026 - mae: 0.2026\n"
          ],
          "name": "stdout"
        },
        {
          "output_type": "execute_result",
          "data": {
            "text/plain": [
              "<tensorflow.python.keras.callbacks.History at 0x7f4876d51750>"
            ]
          },
          "metadata": {
            "tags": []
          },
          "execution_count": 21
        }
      ]
    },
    {
      "cell_type": "code",
      "metadata": {
        "colab": {
          "base_uri": "https://localhost:8080/"
        },
        "id": "WMlzEnNnLp1L",
        "outputId": "be613c22-5a20-40bc-f3b0-0dcdc73b517d"
      },
      "source": [
        "model.predict([-10]), model.predict([10])"
      ],
      "execution_count": null,
      "outputs": [
        {
          "output_type": "stream",
          "text": [
            "WARNING:tensorflow:5 out of the last 5 calls to <function Model.make_predict_function.<locals>.predict_function at 0x7f4876c85710> triggered tf.function retracing. Tracing is expensive and the excessive number of tracings could be due to (1) creating @tf.function repeatedly in a loop, (2) passing tensors with different shapes, (3) passing Python objects instead of tensors. For (1), please define your @tf.function outside of the loop. For (2), @tf.function has experimental_relax_shapes=True option that relaxes argument shapes that can avoid unnecessary retracing. For (3), please refer to https://www.tensorflow.org/guide/function#controlling_retracing and https://www.tensorflow.org/api_docs/python/tf/function for  more details.\n"
          ],
          "name": "stdout"
        },
        {
          "output_type": "execute_result",
          "data": {
            "text/plain": [
              "(array([[9.999666]], dtype=float32), array([[-10.03398]], dtype=float32))"
            ]
          },
          "metadata": {
            "tags": []
          },
          "execution_count": 22
        }
      ]
    },
    {
      "cell_type": "code",
      "metadata": {
        "colab": {
          "base_uri": "https://localhost:8080/"
        },
        "id": "BS2HVTUQMfbC",
        "outputId": "0f6cd644-7b54-4d49-d5fd-a0e2f412784f"
      },
      "source": [
        "model.predict([-199]), model.predict([199])"
      ],
      "execution_count": null,
      "outputs": [
        {
          "output_type": "execute_result",
          "data": {
            "text/plain": [
              "(array([[199.31763]], dtype=float32), array([[-199.35194]], dtype=float32))"
            ]
          },
          "metadata": {
            "tags": []
          },
          "execution_count": 23
        }
      ]
    },
    {
      "cell_type": "markdown",
      "metadata": {
        "id": "IXpfFOW1Lwe1"
      },
      "source": [
        "\n",
        "# Commmon Ways to improve a deep model: (Hyperparameters) \n",
        "\n",
        "- Adding layers \n",
        "- Increase the number of hidden units \n",
        "- change the activation. functions \n",
        "- change the optimization functions\n",
        "- change the learning rate \n",
        "- fitting on more data \n",
        "- fitting for longer\n",
        "\n",
        "\n",
        "# Evaluating a model \n",
        "\n",
        "In practice a typical workflow youll go through when building nn is \n",
        "\n"
      ]
    },
    {
      "cell_type": "markdown",
      "metadata": {
        "id": "u3vqFWkQNpNT"
      },
      "source": [
        "When it comes to evaluation three are words you should memorize \n",
        "> visualize visualize visualize\n",
        "\n",
        "It's a good idea to visualize : \n",
        "* The data - what daata are we working with? What does it look like? \n",
        "* The model itself - what does our model look like? \n",
        "* The training of a model - how does a model perform while it learns? \n",
        "* The predictions of the model - how do the predictions of a model line up against the ground truth( The original labels)?"
      ]
    },
    {
      "cell_type": "code",
      "metadata": {
        "colab": {
          "base_uri": "https://localhost:8080/"
        },
        "id": "CssdAmLZO4Q1",
        "outputId": "e7db4fb4-3121-442f-9f85-9384a83c2b91"
      },
      "source": [
        "# Make a bgger dataset \n",
        "\n",
        "X = tf.range(-1000, 1000, 2)\n",
        "X"
      ],
      "execution_count": null,
      "outputs": [
        {
          "output_type": "execute_result",
          "data": {
            "text/plain": [
              "<tf.Tensor: shape=(1000,), dtype=int32, numpy=\n",
              "array([-1000,  -998,  -996,  -994,  -992,  -990,  -988,  -986,  -984,\n",
              "        -982,  -980,  -978,  -976,  -974,  -972,  -970,  -968,  -966,\n",
              "        -964,  -962,  -960,  -958,  -956,  -954,  -952,  -950,  -948,\n",
              "        -946,  -944,  -942,  -940,  -938,  -936,  -934,  -932,  -930,\n",
              "        -928,  -926,  -924,  -922,  -920,  -918,  -916,  -914,  -912,\n",
              "        -910,  -908,  -906,  -904,  -902,  -900,  -898,  -896,  -894,\n",
              "        -892,  -890,  -888,  -886,  -884,  -882,  -880,  -878,  -876,\n",
              "        -874,  -872,  -870,  -868,  -866,  -864,  -862,  -860,  -858,\n",
              "        -856,  -854,  -852,  -850,  -848,  -846,  -844,  -842,  -840,\n",
              "        -838,  -836,  -834,  -832,  -830,  -828,  -826,  -824,  -822,\n",
              "        -820,  -818,  -816,  -814,  -812,  -810,  -808,  -806,  -804,\n",
              "        -802,  -800,  -798,  -796,  -794,  -792,  -790,  -788,  -786,\n",
              "        -784,  -782,  -780,  -778,  -776,  -774,  -772,  -770,  -768,\n",
              "        -766,  -764,  -762,  -760,  -758,  -756,  -754,  -752,  -750,\n",
              "        -748,  -746,  -744,  -742,  -740,  -738,  -736,  -734,  -732,\n",
              "        -730,  -728,  -726,  -724,  -722,  -720,  -718,  -716,  -714,\n",
              "        -712,  -710,  -708,  -706,  -704,  -702,  -700,  -698,  -696,\n",
              "        -694,  -692,  -690,  -688,  -686,  -684,  -682,  -680,  -678,\n",
              "        -676,  -674,  -672,  -670,  -668,  -666,  -664,  -662,  -660,\n",
              "        -658,  -656,  -654,  -652,  -650,  -648,  -646,  -644,  -642,\n",
              "        -640,  -638,  -636,  -634,  -632,  -630,  -628,  -626,  -624,\n",
              "        -622,  -620,  -618,  -616,  -614,  -612,  -610,  -608,  -606,\n",
              "        -604,  -602,  -600,  -598,  -596,  -594,  -592,  -590,  -588,\n",
              "        -586,  -584,  -582,  -580,  -578,  -576,  -574,  -572,  -570,\n",
              "        -568,  -566,  -564,  -562,  -560,  -558,  -556,  -554,  -552,\n",
              "        -550,  -548,  -546,  -544,  -542,  -540,  -538,  -536,  -534,\n",
              "        -532,  -530,  -528,  -526,  -524,  -522,  -520,  -518,  -516,\n",
              "        -514,  -512,  -510,  -508,  -506,  -504,  -502,  -500,  -498,\n",
              "        -496,  -494,  -492,  -490,  -488,  -486,  -484,  -482,  -480,\n",
              "        -478,  -476,  -474,  -472,  -470,  -468,  -466,  -464,  -462,\n",
              "        -460,  -458,  -456,  -454,  -452,  -450,  -448,  -446,  -444,\n",
              "        -442,  -440,  -438,  -436,  -434,  -432,  -430,  -428,  -426,\n",
              "        -424,  -422,  -420,  -418,  -416,  -414,  -412,  -410,  -408,\n",
              "        -406,  -404,  -402,  -400,  -398,  -396,  -394,  -392,  -390,\n",
              "        -388,  -386,  -384,  -382,  -380,  -378,  -376,  -374,  -372,\n",
              "        -370,  -368,  -366,  -364,  -362,  -360,  -358,  -356,  -354,\n",
              "        -352,  -350,  -348,  -346,  -344,  -342,  -340,  -338,  -336,\n",
              "        -334,  -332,  -330,  -328,  -326,  -324,  -322,  -320,  -318,\n",
              "        -316,  -314,  -312,  -310,  -308,  -306,  -304,  -302,  -300,\n",
              "        -298,  -296,  -294,  -292,  -290,  -288,  -286,  -284,  -282,\n",
              "        -280,  -278,  -276,  -274,  -272,  -270,  -268,  -266,  -264,\n",
              "        -262,  -260,  -258,  -256,  -254,  -252,  -250,  -248,  -246,\n",
              "        -244,  -242,  -240,  -238,  -236,  -234,  -232,  -230,  -228,\n",
              "        -226,  -224,  -222,  -220,  -218,  -216,  -214,  -212,  -210,\n",
              "        -208,  -206,  -204,  -202,  -200,  -198,  -196,  -194,  -192,\n",
              "        -190,  -188,  -186,  -184,  -182,  -180,  -178,  -176,  -174,\n",
              "        -172,  -170,  -168,  -166,  -164,  -162,  -160,  -158,  -156,\n",
              "        -154,  -152,  -150,  -148,  -146,  -144,  -142,  -140,  -138,\n",
              "        -136,  -134,  -132,  -130,  -128,  -126,  -124,  -122,  -120,\n",
              "        -118,  -116,  -114,  -112,  -110,  -108,  -106,  -104,  -102,\n",
              "        -100,   -98,   -96,   -94,   -92,   -90,   -88,   -86,   -84,\n",
              "         -82,   -80,   -78,   -76,   -74,   -72,   -70,   -68,   -66,\n",
              "         -64,   -62,   -60,   -58,   -56,   -54,   -52,   -50,   -48,\n",
              "         -46,   -44,   -42,   -40,   -38,   -36,   -34,   -32,   -30,\n",
              "         -28,   -26,   -24,   -22,   -20,   -18,   -16,   -14,   -12,\n",
              "         -10,    -8,    -6,    -4,    -2,     0,     2,     4,     6,\n",
              "           8,    10,    12,    14,    16,    18,    20,    22,    24,\n",
              "          26,    28,    30,    32,    34,    36,    38,    40,    42,\n",
              "          44,    46,    48,    50,    52,    54,    56,    58,    60,\n",
              "          62,    64,    66,    68,    70,    72,    74,    76,    78,\n",
              "          80,    82,    84,    86,    88,    90,    92,    94,    96,\n",
              "          98,   100,   102,   104,   106,   108,   110,   112,   114,\n",
              "         116,   118,   120,   122,   124,   126,   128,   130,   132,\n",
              "         134,   136,   138,   140,   142,   144,   146,   148,   150,\n",
              "         152,   154,   156,   158,   160,   162,   164,   166,   168,\n",
              "         170,   172,   174,   176,   178,   180,   182,   184,   186,\n",
              "         188,   190,   192,   194,   196,   198,   200,   202,   204,\n",
              "         206,   208,   210,   212,   214,   216,   218,   220,   222,\n",
              "         224,   226,   228,   230,   232,   234,   236,   238,   240,\n",
              "         242,   244,   246,   248,   250,   252,   254,   256,   258,\n",
              "         260,   262,   264,   266,   268,   270,   272,   274,   276,\n",
              "         278,   280,   282,   284,   286,   288,   290,   292,   294,\n",
              "         296,   298,   300,   302,   304,   306,   308,   310,   312,\n",
              "         314,   316,   318,   320,   322,   324,   326,   328,   330,\n",
              "         332,   334,   336,   338,   340,   342,   344,   346,   348,\n",
              "         350,   352,   354,   356,   358,   360,   362,   364,   366,\n",
              "         368,   370,   372,   374,   376,   378,   380,   382,   384,\n",
              "         386,   388,   390,   392,   394,   396,   398,   400,   402,\n",
              "         404,   406,   408,   410,   412,   414,   416,   418,   420,\n",
              "         422,   424,   426,   428,   430,   432,   434,   436,   438,\n",
              "         440,   442,   444,   446,   448,   450,   452,   454,   456,\n",
              "         458,   460,   462,   464,   466,   468,   470,   472,   474,\n",
              "         476,   478,   480,   482,   484,   486,   488,   490,   492,\n",
              "         494,   496,   498,   500,   502,   504,   506,   508,   510,\n",
              "         512,   514,   516,   518,   520,   522,   524,   526,   528,\n",
              "         530,   532,   534,   536,   538,   540,   542,   544,   546,\n",
              "         548,   550,   552,   554,   556,   558,   560,   562,   564,\n",
              "         566,   568,   570,   572,   574,   576,   578,   580,   582,\n",
              "         584,   586,   588,   590,   592,   594,   596,   598,   600,\n",
              "         602,   604,   606,   608,   610,   612,   614,   616,   618,\n",
              "         620,   622,   624,   626,   628,   630,   632,   634,   636,\n",
              "         638,   640,   642,   644,   646,   648,   650,   652,   654,\n",
              "         656,   658,   660,   662,   664,   666,   668,   670,   672,\n",
              "         674,   676,   678,   680,   682,   684,   686,   688,   690,\n",
              "         692,   694,   696,   698,   700,   702,   704,   706,   708,\n",
              "         710,   712,   714,   716,   718,   720,   722,   724,   726,\n",
              "         728,   730,   732,   734,   736,   738,   740,   742,   744,\n",
              "         746,   748,   750,   752,   754,   756,   758,   760,   762,\n",
              "         764,   766,   768,   770,   772,   774,   776,   778,   780,\n",
              "         782,   784,   786,   788,   790,   792,   794,   796,   798,\n",
              "         800,   802,   804,   806,   808,   810,   812,   814,   816,\n",
              "         818,   820,   822,   824,   826,   828,   830,   832,   834,\n",
              "         836,   838,   840,   842,   844,   846,   848,   850,   852,\n",
              "         854,   856,   858,   860,   862,   864,   866,   868,   870,\n",
              "         872,   874,   876,   878,   880,   882,   884,   886,   888,\n",
              "         890,   892,   894,   896,   898,   900,   902,   904,   906,\n",
              "         908,   910,   912,   914,   916,   918,   920,   922,   924,\n",
              "         926,   928,   930,   932,   934,   936,   938,   940,   942,\n",
              "         944,   946,   948,   950,   952,   954,   956,   958,   960,\n",
              "         962,   964,   966,   968,   970,   972,   974,   976,   978,\n",
              "         980,   982,   984,   986,   988,   990,   992,   994,   996,\n",
              "         998], dtype=int32)>"
            ]
          },
          "metadata": {
            "tags": []
          },
          "execution_count": 24
        }
      ]
    },
    {
      "cell_type": "code",
      "metadata": {
        "colab": {
          "base_uri": "https://localhost:8080/"
        },
        "id": "7pSUzPhgPFq3",
        "outputId": "7f52ce03-5c51-4587-a68d-c85c437a6e1b"
      },
      "source": [
        "# Make a labels for the dataset \n",
        "y = X **2\n",
        "y"
      ],
      "execution_count": null,
      "outputs": [
        {
          "output_type": "execute_result",
          "data": {
            "text/plain": [
              "<tf.Tensor: shape=(1000,), dtype=int32, numpy=\n",
              "array([1000000,  996004,  992016,  988036,  984064,  980100,  976144,\n",
              "        972196,  968256,  964324,  960400,  956484,  952576,  948676,\n",
              "        944784,  940900,  937024,  933156,  929296,  925444,  921600,\n",
              "        917764,  913936,  910116,  906304,  902500,  898704,  894916,\n",
              "        891136,  887364,  883600,  879844,  876096,  872356,  868624,\n",
              "        864900,  861184,  857476,  853776,  850084,  846400,  842724,\n",
              "        839056,  835396,  831744,  828100,  824464,  820836,  817216,\n",
              "        813604,  810000,  806404,  802816,  799236,  795664,  792100,\n",
              "        788544,  784996,  781456,  777924,  774400,  770884,  767376,\n",
              "        763876,  760384,  756900,  753424,  749956,  746496,  743044,\n",
              "        739600,  736164,  732736,  729316,  725904,  722500,  719104,\n",
              "        715716,  712336,  708964,  705600,  702244,  698896,  695556,\n",
              "        692224,  688900,  685584,  682276,  678976,  675684,  672400,\n",
              "        669124,  665856,  662596,  659344,  656100,  652864,  649636,\n",
              "        646416,  643204,  640000,  636804,  633616,  630436,  627264,\n",
              "        624100,  620944,  617796,  614656,  611524,  608400,  605284,\n",
              "        602176,  599076,  595984,  592900,  589824,  586756,  583696,\n",
              "        580644,  577600,  574564,  571536,  568516,  565504,  562500,\n",
              "        559504,  556516,  553536,  550564,  547600,  544644,  541696,\n",
              "        538756,  535824,  532900,  529984,  527076,  524176,  521284,\n",
              "        518400,  515524,  512656,  509796,  506944,  504100,  501264,\n",
              "        498436,  495616,  492804,  490000,  487204,  484416,  481636,\n",
              "        478864,  476100,  473344,  470596,  467856,  465124,  462400,\n",
              "        459684,  456976,  454276,  451584,  448900,  446224,  443556,\n",
              "        440896,  438244,  435600,  432964,  430336,  427716,  425104,\n",
              "        422500,  419904,  417316,  414736,  412164,  409600,  407044,\n",
              "        404496,  401956,  399424,  396900,  394384,  391876,  389376,\n",
              "        386884,  384400,  381924,  379456,  376996,  374544,  372100,\n",
              "        369664,  367236,  364816,  362404,  360000,  357604,  355216,\n",
              "        352836,  350464,  348100,  345744,  343396,  341056,  338724,\n",
              "        336400,  334084,  331776,  329476,  327184,  324900,  322624,\n",
              "        320356,  318096,  315844,  313600,  311364,  309136,  306916,\n",
              "        304704,  302500,  300304,  298116,  295936,  293764,  291600,\n",
              "        289444,  287296,  285156,  283024,  280900,  278784,  276676,\n",
              "        274576,  272484,  270400,  268324,  266256,  264196,  262144,\n",
              "        260100,  258064,  256036,  254016,  252004,  250000,  248004,\n",
              "        246016,  244036,  242064,  240100,  238144,  236196,  234256,\n",
              "        232324,  230400,  228484,  226576,  224676,  222784,  220900,\n",
              "        219024,  217156,  215296,  213444,  211600,  209764,  207936,\n",
              "        206116,  204304,  202500,  200704,  198916,  197136,  195364,\n",
              "        193600,  191844,  190096,  188356,  186624,  184900,  183184,\n",
              "        181476,  179776,  178084,  176400,  174724,  173056,  171396,\n",
              "        169744,  168100,  166464,  164836,  163216,  161604,  160000,\n",
              "        158404,  156816,  155236,  153664,  152100,  150544,  148996,\n",
              "        147456,  145924,  144400,  142884,  141376,  139876,  138384,\n",
              "        136900,  135424,  133956,  132496,  131044,  129600,  128164,\n",
              "        126736,  125316,  123904,  122500,  121104,  119716,  118336,\n",
              "        116964,  115600,  114244,  112896,  111556,  110224,  108900,\n",
              "        107584,  106276,  104976,  103684,  102400,  101124,   99856,\n",
              "         98596,   97344,   96100,   94864,   93636,   92416,   91204,\n",
              "         90000,   88804,   87616,   86436,   85264,   84100,   82944,\n",
              "         81796,   80656,   79524,   78400,   77284,   76176,   75076,\n",
              "         73984,   72900,   71824,   70756,   69696,   68644,   67600,\n",
              "         66564,   65536,   64516,   63504,   62500,   61504,   60516,\n",
              "         59536,   58564,   57600,   56644,   55696,   54756,   53824,\n",
              "         52900,   51984,   51076,   50176,   49284,   48400,   47524,\n",
              "         46656,   45796,   44944,   44100,   43264,   42436,   41616,\n",
              "         40804,   40000,   39204,   38416,   37636,   36864,   36100,\n",
              "         35344,   34596,   33856,   33124,   32400,   31684,   30976,\n",
              "         30276,   29584,   28900,   28224,   27556,   26896,   26244,\n",
              "         25600,   24964,   24336,   23716,   23104,   22500,   21904,\n",
              "         21316,   20736,   20164,   19600,   19044,   18496,   17956,\n",
              "         17424,   16900,   16384,   15876,   15376,   14884,   14400,\n",
              "         13924,   13456,   12996,   12544,   12100,   11664,   11236,\n",
              "         10816,   10404,   10000,    9604,    9216,    8836,    8464,\n",
              "          8100,    7744,    7396,    7056,    6724,    6400,    6084,\n",
              "          5776,    5476,    5184,    4900,    4624,    4356,    4096,\n",
              "          3844,    3600,    3364,    3136,    2916,    2704,    2500,\n",
              "          2304,    2116,    1936,    1764,    1600,    1444,    1296,\n",
              "          1156,    1024,     900,     784,     676,     576,     484,\n",
              "           400,     324,     256,     196,     144,     100,      64,\n",
              "            36,      16,       4,       0,       4,      16,      36,\n",
              "            64,     100,     144,     196,     256,     324,     400,\n",
              "           484,     576,     676,     784,     900,    1024,    1156,\n",
              "          1296,    1444,    1600,    1764,    1936,    2116,    2304,\n",
              "          2500,    2704,    2916,    3136,    3364,    3600,    3844,\n",
              "          4096,    4356,    4624,    4900,    5184,    5476,    5776,\n",
              "          6084,    6400,    6724,    7056,    7396,    7744,    8100,\n",
              "          8464,    8836,    9216,    9604,   10000,   10404,   10816,\n",
              "         11236,   11664,   12100,   12544,   12996,   13456,   13924,\n",
              "         14400,   14884,   15376,   15876,   16384,   16900,   17424,\n",
              "         17956,   18496,   19044,   19600,   20164,   20736,   21316,\n",
              "         21904,   22500,   23104,   23716,   24336,   24964,   25600,\n",
              "         26244,   26896,   27556,   28224,   28900,   29584,   30276,\n",
              "         30976,   31684,   32400,   33124,   33856,   34596,   35344,\n",
              "         36100,   36864,   37636,   38416,   39204,   40000,   40804,\n",
              "         41616,   42436,   43264,   44100,   44944,   45796,   46656,\n",
              "         47524,   48400,   49284,   50176,   51076,   51984,   52900,\n",
              "         53824,   54756,   55696,   56644,   57600,   58564,   59536,\n",
              "         60516,   61504,   62500,   63504,   64516,   65536,   66564,\n",
              "         67600,   68644,   69696,   70756,   71824,   72900,   73984,\n",
              "         75076,   76176,   77284,   78400,   79524,   80656,   81796,\n",
              "         82944,   84100,   85264,   86436,   87616,   88804,   90000,\n",
              "         91204,   92416,   93636,   94864,   96100,   97344,   98596,\n",
              "         99856,  101124,  102400,  103684,  104976,  106276,  107584,\n",
              "        108900,  110224,  111556,  112896,  114244,  115600,  116964,\n",
              "        118336,  119716,  121104,  122500,  123904,  125316,  126736,\n",
              "        128164,  129600,  131044,  132496,  133956,  135424,  136900,\n",
              "        138384,  139876,  141376,  142884,  144400,  145924,  147456,\n",
              "        148996,  150544,  152100,  153664,  155236,  156816,  158404,\n",
              "        160000,  161604,  163216,  164836,  166464,  168100,  169744,\n",
              "        171396,  173056,  174724,  176400,  178084,  179776,  181476,\n",
              "        183184,  184900,  186624,  188356,  190096,  191844,  193600,\n",
              "        195364,  197136,  198916,  200704,  202500,  204304,  206116,\n",
              "        207936,  209764,  211600,  213444,  215296,  217156,  219024,\n",
              "        220900,  222784,  224676,  226576,  228484,  230400,  232324,\n",
              "        234256,  236196,  238144,  240100,  242064,  244036,  246016,\n",
              "        248004,  250000,  252004,  254016,  256036,  258064,  260100,\n",
              "        262144,  264196,  266256,  268324,  270400,  272484,  274576,\n",
              "        276676,  278784,  280900,  283024,  285156,  287296,  289444,\n",
              "        291600,  293764,  295936,  298116,  300304,  302500,  304704,\n",
              "        306916,  309136,  311364,  313600,  315844,  318096,  320356,\n",
              "        322624,  324900,  327184,  329476,  331776,  334084,  336400,\n",
              "        338724,  341056,  343396,  345744,  348100,  350464,  352836,\n",
              "        355216,  357604,  360000,  362404,  364816,  367236,  369664,\n",
              "        372100,  374544,  376996,  379456,  381924,  384400,  386884,\n",
              "        389376,  391876,  394384,  396900,  399424,  401956,  404496,\n",
              "        407044,  409600,  412164,  414736,  417316,  419904,  422500,\n",
              "        425104,  427716,  430336,  432964,  435600,  438244,  440896,\n",
              "        443556,  446224,  448900,  451584,  454276,  456976,  459684,\n",
              "        462400,  465124,  467856,  470596,  473344,  476100,  478864,\n",
              "        481636,  484416,  487204,  490000,  492804,  495616,  498436,\n",
              "        501264,  504100,  506944,  509796,  512656,  515524,  518400,\n",
              "        521284,  524176,  527076,  529984,  532900,  535824,  538756,\n",
              "        541696,  544644,  547600,  550564,  553536,  556516,  559504,\n",
              "        562500,  565504,  568516,  571536,  574564,  577600,  580644,\n",
              "        583696,  586756,  589824,  592900,  595984,  599076,  602176,\n",
              "        605284,  608400,  611524,  614656,  617796,  620944,  624100,\n",
              "        627264,  630436,  633616,  636804,  640000,  643204,  646416,\n",
              "        649636,  652864,  656100,  659344,  662596,  665856,  669124,\n",
              "        672400,  675684,  678976,  682276,  685584,  688900,  692224,\n",
              "        695556,  698896,  702244,  705600,  708964,  712336,  715716,\n",
              "        719104,  722500,  725904,  729316,  732736,  736164,  739600,\n",
              "        743044,  746496,  749956,  753424,  756900,  760384,  763876,\n",
              "        767376,  770884,  774400,  777924,  781456,  784996,  788544,\n",
              "        792100,  795664,  799236,  802816,  806404,  810000,  813604,\n",
              "        817216,  820836,  824464,  828100,  831744,  835396,  839056,\n",
              "        842724,  846400,  850084,  853776,  857476,  861184,  864900,\n",
              "        868624,  872356,  876096,  879844,  883600,  887364,  891136,\n",
              "        894916,  898704,  902500,  906304,  910116,  913936,  917764,\n",
              "        921600,  925444,  929296,  933156,  937024,  940900,  944784,\n",
              "        948676,  952576,  956484,  960400,  964324,  968256,  972196,\n",
              "        976144,  980100,  984064,  988036,  992016,  996004], dtype=int32)>"
            ]
          },
          "metadata": {
            "tags": []
          },
          "execution_count": 25
        }
      ]
    },
    {
      "cell_type": "code",
      "metadata": {
        "colab": {
          "base_uri": "https://localhost:8080/"
        },
        "id": "NwvdFIFdPKY9",
        "outputId": "823c9f7e-bacd-4d2f-f4ed-3dda5fb3c7b8"
      },
      "source": [
        "X.shape, y.shape"
      ],
      "execution_count": null,
      "outputs": [
        {
          "output_type": "execute_result",
          "data": {
            "text/plain": [
              "(TensorShape([1000]), TensorShape([1000]))"
            ]
          },
          "metadata": {
            "tags": []
          },
          "execution_count": 26
        }
      ]
    },
    {
      "cell_type": "code",
      "metadata": {
        "colab": {
          "base_uri": "https://localhost:8080/",
          "height": 293
        },
        "id": "qlQFx0JlPN3Z",
        "outputId": "3319cc43-ef4b-4597-e5c6-50a7877c61e8"
      },
      "source": [
        "#visualize the data \n",
        "import matplotlib.pyplot as plt\n",
        "\n",
        "plt.scatter(X, y)"
      ],
      "execution_count": null,
      "outputs": [
        {
          "output_type": "execute_result",
          "data": {
            "text/plain": [
              "<matplotlib.collections.PathCollection at 0x7f4875bf79d0>"
            ]
          },
          "metadata": {
            "tags": []
          },
          "execution_count": 27
        },
        {
          "output_type": "display_data",
          "data": {
            "image/png": "[encoded data removed]",
            "text/plain": [
              "<Figure size 432x288 with 1 Axes>"
            ]
          },
          "metadata": {
            "tags": [],
            "needs_background": "light"
          }
        }
      ]
    },
    {
      "cell_type": "markdown",
      "metadata": {
        "id": "0_aabIyIPToG"
      },
      "source": [
        "### THe 3 sets \n",
        "\n",
        "* training set -- 80% of the data \n",
        "* testing set -- it get evaluated on test set \n",
        "* validation set -- the model get tuned on theis data \n"
      ]
    },
    {
      "cell_type": "code",
      "metadata": {
        "colab": {
          "base_uri": "https://localhost:8080/"
        },
        "id": "vJ1595jLP1OO",
        "outputId": "8d57c21a-ce62-4594-b5b5-46609436d246"
      },
      "source": [
        "# check the lenght of the sample \n",
        "len(X)"
      ],
      "execution_count": null,
      "outputs": [
        {
          "output_type": "execute_result",
          "data": {
            "text/plain": [
              "1000"
            ]
          },
          "metadata": {
            "tags": []
          },
          "execution_count": 28
        }
      ]
    },
    {
      "cell_type": "code",
      "metadata": {
        "id": "XMOp99gNQLeU"
      },
      "source": [
        "# split the data \n",
        "X_train = X[:900]\n",
        "X_test  = X[900:1000]"
      ],
      "execution_count": null,
      "outputs": []
    },
    {
      "cell_type": "code",
      "metadata": {
        "id": "66VMfWMZQj4p"
      },
      "source": [
        "y_train = y[:900]\n",
        "y_test  = y[900:1000]"
      ],
      "execution_count": null,
      "outputs": []
    },
    {
      "cell_type": "code",
      "metadata": {
        "colab": {
          "base_uri": "https://localhost:8080/"
        },
        "id": "gNhVNMPmQn7p",
        "outputId": "abee00f5-a73e-489a-e761-7a3598bb2c20"
      },
      "source": [
        "len(X_train), len(X_test)"
      ],
      "execution_count": null,
      "outputs": [
        {
          "output_type": "execute_result",
          "data": {
            "text/plain": [
              "(900, 100)"
            ]
          },
          "metadata": {
            "tags": []
          },
          "execution_count": 31
        }
      ]
    },
    {
      "cell_type": "markdown",
      "metadata": {
        "id": "QrEz_zePQ3qZ"
      },
      "source": [
        "## visualize the data \n",
        "\n",
        "now we got our data in trianing testing set \n"
      ]
    },
    {
      "cell_type": "code",
      "metadata": {
        "colab": {
          "base_uri": "https://localhost:8080/",
          "height": 602
        },
        "id": "WmgTljFjREmo",
        "outputId": "944a1b11-7a79-45ba-bd30-707c29b27cb2"
      },
      "source": [
        "plt.figure(figsize=(16, 10))\n",
        "plt.scatter(X_train, y_train, c='red', label='training')\n",
        "plt.scatter(X_test, y_test, c='b', label='testing')\n",
        "plt.legend()\n",
        "plt.show()"
      ],
      "execution_count": null,
      "outputs": [
        {
          "output_type": "display_data",
          "data": {
            "image/png": "[encoded data removed]",
            "text/plain": [
              "<Figure size 1152x720 with 1 Axes>"
            ]
          },
          "metadata": {
            "tags": [],
            "needs_background": "light"
          }
        }
      ]
    },
    {
      "cell_type": "markdown",
      "metadata": {
        "id": "CwS41V1VRkzq"
      },
      "source": [
        "# let's build nn for the data "
      ]
    },
    {
      "cell_type": "code",
      "metadata": {
        "id": "hQhVdR-1SGTv"
      },
      "source": [
        "# 1. create a model \n",
        "\n",
        "model = tf.keras.Sequential([\n",
        "                             tf.keras.layers.Dense(1)\n",
        "])\n",
        "\n",
        "model.compile(\n",
        "    loss = tf.keras.losses.mae, \n",
        "    optimizer = tf.keras.optimizers.SGD(),\n",
        "    metrics = ['mae']\n",
        ")\n",
        "\n",
        "#model.fit(X_train, y_train, epochs=100)"
      ],
      "execution_count": null,
      "outputs": []
    },
    {
      "cell_type": "code",
      "metadata": {
        "colab": {
          "base_uri": "https://localhost:8080/",
          "height": 300
        },
        "id": "VQMcDVp4SjhL",
        "outputId": "3b0b7340-73b2-4a31-f6de-ad6f501a85c0"
      },
      "source": [
        "model.summary()"
      ],
      "execution_count": null,
      "outputs": [
        {
          "output_type": "error",
          "ename": "ValueError",
          "evalue": "ignored",
          "traceback": [
            "\u001b[0;31m---------------------------------------------------------------------------\u001b[0m",
            "\u001b[0;31mValueError\u001b[0m                                Traceback (most recent call last)",
            "\u001b[0;32m<ipython-input-34-5f15418b3570>\u001b[0m in \u001b[0;36m<module>\u001b[0;34m()\u001b[0m\n\u001b[0;32m----> 1\u001b[0;31m \u001b[0mmodel\u001b[0m\u001b[0;34m.\u001b[0m\u001b[0msummary\u001b[0m\u001b[0;34m(\u001b[0m\u001b[0;34m)\u001b[0m\u001b[0;34m\u001b[0m\u001b[0;34m\u001b[0m\u001b[0m\n\u001b[0m",
            "\u001b[0;32m/usr/local/lib/python3.7/dist-packages/tensorflow/python/keras/engine/training.py\u001b[0m in \u001b[0;36msummary\u001b[0;34m(self, line_length, positions, print_fn)\u001b[0m\n\u001b[1;32m   2475\u001b[0m     \"\"\"\n\u001b[1;32m   2476\u001b[0m     \u001b[0;32mif\u001b[0m \u001b[0;32mnot\u001b[0m \u001b[0mself\u001b[0m\u001b[0;34m.\u001b[0m\u001b[0mbuilt\u001b[0m\u001b[0;34m:\u001b[0m\u001b[0;34m\u001b[0m\u001b[0;34m\u001b[0m\u001b[0m\n\u001b[0;32m-> 2477\u001b[0;31m       raise ValueError('This model has not yet been built. '\n\u001b[0m\u001b[1;32m   2478\u001b[0m                        \u001b[0;34m'Build the model first by calling `build()` or calling '\u001b[0m\u001b[0;34m\u001b[0m\u001b[0;34m\u001b[0m\u001b[0m\n\u001b[1;32m   2479\u001b[0m                        \u001b[0;34m'`fit()` with some data, or specify '\u001b[0m\u001b[0;34m\u001b[0m\u001b[0;34m\u001b[0m\u001b[0m\n",
            "\u001b[0;31mValueError\u001b[0m: This model has not yet been built. Build the model first by calling `build()` or calling `fit()` with some data, or specify an `input_shape` argument in the first layer(s) for automatic build."
          ]
        }
      ]
    },
    {
      "cell_type": "code",
      "metadata": {
        "colab": {
          "base_uri": "https://localhost:8080/",
          "height": 283
        },
        "id": "ONrWBDflSsRF",
        "outputId": "5e653851-067d-49aa-cc88-bac0cee96b11"
      },
      "source": [
        "model.build()"
      ],
      "execution_count": null,
      "outputs": [
        {
          "output_type": "error",
          "ename": "ValueError",
          "evalue": "ignored",
          "traceback": [
            "\u001b[0;31m---------------------------------------------------------------------------\u001b[0m",
            "\u001b[0;31mValueError\u001b[0m                                Traceback (most recent call last)",
            "\u001b[0;32m<ipython-input-35-2f52417d930d>\u001b[0m in \u001b[0;36m<module>\u001b[0;34m()\u001b[0m\n\u001b[0;32m----> 1\u001b[0;31m \u001b[0mmodel\u001b[0m\u001b[0;34m.\u001b[0m\u001b[0mbuild\u001b[0m\u001b[0;34m(\u001b[0m\u001b[0;34m)\u001b[0m\u001b[0;34m\u001b[0m\u001b[0;34m\u001b[0m\u001b[0m\n\u001b[0m",
            "\u001b[0;32m/usr/local/lib/python3.7/dist-packages/tensorflow/python/keras/engine/sequential.py\u001b[0m in \u001b[0;36mbuild\u001b[0;34m(self, input_shape)\u001b[0m\n\u001b[1;32m    349\u001b[0m     \u001b[0;32melse\u001b[0m\u001b[0;34m:\u001b[0m\u001b[0;34m\u001b[0m\u001b[0;34m\u001b[0m\u001b[0m\n\u001b[1;32m    350\u001b[0m       \u001b[0;32mif\u001b[0m \u001b[0minput_shape\u001b[0m \u001b[0;32mis\u001b[0m \u001b[0;32mNone\u001b[0m\u001b[0;34m:\u001b[0m\u001b[0;34m\u001b[0m\u001b[0;34m\u001b[0m\u001b[0m\n\u001b[0;32m--> 351\u001b[0;31m         \u001b[0;32mraise\u001b[0m \u001b[0mValueError\u001b[0m\u001b[0;34m(\u001b[0m\u001b[0;34m'You must provide an `input_shape` argument.'\u001b[0m\u001b[0;34m)\u001b[0m\u001b[0;34m\u001b[0m\u001b[0;34m\u001b[0m\u001b[0m\n\u001b[0m\u001b[1;32m    352\u001b[0m       \u001b[0mself\u001b[0m\u001b[0;34m.\u001b[0m\u001b[0m_build_graph_network_for_inferred_shape\u001b[0m\u001b[0;34m(\u001b[0m\u001b[0minput_shape\u001b[0m\u001b[0;34m)\u001b[0m\u001b[0;34m\u001b[0m\u001b[0;34m\u001b[0m\u001b[0m\n\u001b[1;32m    353\u001b[0m       \u001b[0;32mif\u001b[0m \u001b[0;32mnot\u001b[0m \u001b[0mself\u001b[0m\u001b[0;34m.\u001b[0m\u001b[0mbuilt\u001b[0m\u001b[0;34m:\u001b[0m\u001b[0;34m\u001b[0m\u001b[0;34m\u001b[0m\u001b[0m\n",
            "\u001b[0;31mValueError\u001b[0m: You must provide an `input_shape` argument."
          ]
        }
      ]
    },
    {
      "cell_type": "code",
      "metadata": {
        "colab": {
          "base_uri": "https://localhost:8080/"
        },
        "id": "vGL3LC9wS6OA",
        "outputId": "969b25b1-52a8-43f7-8158-a6d5ee3a66c0"
      },
      "source": [
        "# let;s crreate a model by giving the input shape \n",
        "\n",
        "tf.random.set_seed(42)\n",
        "\n",
        "model  = tf.keras.Sequential([\n",
        "                              tf.keras.layers.Dense(100, input_shape=[1], name=\"input_layer\", activation='relu'),\n",
        "                              tf.keras.layers.Dense(100, name=\"input2_layer\", activation='relu'),\n",
        "                              tf.keras.layers.Dense(50, name=\"input3_layer\", activation='relu'),\n",
        "                              tf.keras.layers.Dense(20, name=\"input4_layer\", activation='relu'),\n",
        "\n",
        "                              tf.keras.layers.Dense(4, name=\"input7_layer\", activation='relu'),\n",
        "                              tf.keras.layers.Dense(1, name=\"output_layer\")\n",
        "])\n",
        "\n",
        "model.compile(\n",
        "    loss = tf.keras.losses.mae, \n",
        "    optimizer = tf.keras.optimizers.Adam(lr=0.01),\n",
        "    metrics = ['mae']\n",
        ")\n"
      ],
      "execution_count": null,
      "outputs": [
        {
          "output_type": "stream",
          "text": [
            "/usr/local/lib/python3.7/dist-packages/tensorflow/python/keras/optimizer_v2/optimizer_v2.py:375: UserWarning: The `lr` argument is deprecated, use `learning_rate` instead.\n",
            "  \"The `lr` argument is deprecated, use `learning_rate` instead.\")\n"
          ],
          "name": "stderr"
        }
      ]
    },
    {
      "cell_type": "code",
      "metadata": {
        "colab": {
          "base_uri": "https://localhost:8080/"
        },
        "id": "V4DBmX_8TXIa",
        "outputId": "2ad6e7f1-6664-4be6-e305-7f4be017a6b3"
      },
      "source": [
        "model.summary()"
      ],
      "execution_count": null,
      "outputs": [
        {
          "output_type": "stream",
          "text": [
            "Model: \"sequential_24\"\n",
            "_________________________________________________________________\n",
            "Layer (type)                 Output Shape              Param #   \n",
            "=================================================================\n",
            "input_layer (Dense)          (None, 100)               200       \n",
            "_________________________________________________________________\n",
            "input2_layer (Dense)         (None, 100)               10100     \n",
            "_________________________________________________________________\n",
            "input3_layer (Dense)         (None, 50)                5050      \n",
            "_________________________________________________________________\n",
            "input4_layer (Dense)         (None, 20)                1020      \n",
            "_________________________________________________________________\n",
            "input7_layer (Dense)         (None, 4)                 84        \n",
            "_________________________________________________________________\n",
            "output_layer (Dense)         (None, 1)                 5         \n",
            "=================================================================\n",
            "Total params: 16,459\n",
            "Trainable params: 16,459\n",
            "Non-trainable params: 0\n",
            "_________________________________________________________________\n"
          ],
          "name": "stdout"
        }
      ]
    },
    {
      "cell_type": "markdown",
      "metadata": {
        "id": "PlxpVNy-TkjQ"
      },
      "source": [
        "* Total Params - total no of parameters in the model \n",
        "* Trainable parameters - these are the parameters (Patterns) the model can update it as it trains \n",
        "\n",
        "* non trainable parameters - these parametrs aren;t updated during training (this is typical when you bring in already learn patterns or parameters from other models during **transfer learning**)."
      ]
    },
    {
      "cell_type": "code",
      "metadata": {
        "id": "P3soSE5hTYkf"
      },
      "source": [
        "# exercise try playing with hidden units in the dense layers "
      ],
      "execution_count": null,
      "outputs": []
    },
    {
      "cell_type": "code",
      "metadata": {
        "colab": {
          "base_uri": "https://localhost:8080/"
        },
        "id": "dyghSTZ-U9xb",
        "outputId": "b8535ff1-b561-49cd-b29b-d21dec34b536"
      },
      "source": [
        "# fit the model \n",
        "model.fit(X_train, y_train, epochs=100, verbose=1)"
      ],
      "execution_count": null,
      "outputs": [
        {
          "output_type": "stream",
          "text": [
            "Epoch 1/100\n",
            "29/29 [==============================] - 0s 2ms/step - loss: 211891.9219 - mae: 211891.9219\n",
            "Epoch 2/100\n",
            "29/29 [==============================] - 0s 2ms/step - loss: 91715.3438 - mae: 91715.3438\n",
            "Epoch 3/100\n",
            "29/29 [==============================] - 0s 2ms/step - loss: 85877.7344 - mae: 85877.7344\n",
            "Epoch 4/100\n",
            "29/29 [==============================] - 0s 2ms/step - loss: 87915.2734 - mae: 87915.2734\n",
            "Epoch 5/100\n",
            "29/29 [==============================] - 0s 2ms/step - loss: 84619.9219 - mae: 84619.9219\n",
            "Epoch 6/100\n",
            "29/29 [==============================] - 0s 2ms/step - loss: 83358.0000 - mae: 83358.0000\n",
            "Epoch 7/100\n",
            "29/29 [==============================] - 0s 2ms/step - loss: 83184.3672 - mae: 83184.3672\n",
            "Epoch 8/100\n",
            "29/29 [==============================] - 0s 2ms/step - loss: 83762.1562 - mae: 83762.1562\n",
            "Epoch 9/100\n",
            "29/29 [==============================] - 0s 2ms/step - loss: 83944.2188 - mae: 83944.2188\n",
            "Epoch 10/100\n",
            "29/29 [==============================] - 0s 2ms/step - loss: 84510.7031 - mae: 84510.7031\n",
            "Epoch 11/100\n",
            "29/29 [==============================] - 0s 2ms/step - loss: 83505.8984 - mae: 83505.8984\n",
            "Epoch 12/100\n",
            "29/29 [==============================] - 0s 2ms/step - loss: 81596.2422 - mae: 81596.2422\n",
            "Epoch 13/100\n",
            "29/29 [==============================] - 0s 2ms/step - loss: 82093.6641 - mae: 82093.6641\n",
            "Epoch 14/100\n",
            "29/29 [==============================] - 0s 2ms/step - loss: 81394.8984 - mae: 81394.8984\n",
            "Epoch 15/100\n",
            "29/29 [==============================] - 0s 2ms/step - loss: 82004.8594 - mae: 82004.8594\n",
            "Epoch 16/100\n",
            "29/29 [==============================] - 0s 2ms/step - loss: 85215.3828 - mae: 85215.3828\n",
            "Epoch 17/100\n",
            "29/29 [==============================] - 0s 2ms/step - loss: 82260.6016 - mae: 82260.6016\n",
            "Epoch 18/100\n",
            "29/29 [==============================] - 0s 2ms/step - loss: 82546.8984 - mae: 82546.8984\n",
            "Epoch 19/100\n",
            "29/29 [==============================] - 0s 3ms/step - loss: 79210.6641 - mae: 79210.6641\n",
            "Epoch 20/100\n",
            "29/29 [==============================] - 0s 2ms/step - loss: 80433.7969 - mae: 80433.7969\n",
            "Epoch 21/100\n",
            "29/29 [==============================] - 0s 2ms/step - loss: 78790.5000 - mae: 78790.5000\n",
            "Epoch 22/100\n",
            "29/29 [==============================] - 0s 2ms/step - loss: 76032.4062 - mae: 76032.4062\n",
            "Epoch 23/100\n",
            "29/29 [==============================] - 0s 2ms/step - loss: 79151.1172 - mae: 79151.1172\n",
            "Epoch 24/100\n",
            "29/29 [==============================] - 0s 2ms/step - loss: 76034.8906 - mae: 76034.8906\n",
            "Epoch 25/100\n",
            "29/29 [==============================] - 0s 2ms/step - loss: 74808.1875 - mae: 74808.1875\n",
            "Epoch 26/100\n",
            "29/29 [==============================] - 0s 2ms/step - loss: 75030.0859 - mae: 75030.0859\n",
            "Epoch 27/100\n",
            "29/29 [==============================] - 0s 2ms/step - loss: 73323.2812 - mae: 73323.2812\n",
            "Epoch 28/100\n",
            "29/29 [==============================] - 0s 2ms/step - loss: 69045.5781 - mae: 69045.5781\n",
            "Epoch 29/100\n",
            "29/29 [==============================] - 0s 2ms/step - loss: 69587.4375 - mae: 69587.4375\n",
            "Epoch 30/100\n",
            "29/29 [==============================] - 0s 2ms/step - loss: 65686.7188 - mae: 65686.7188\n",
            "Epoch 31/100\n",
            "29/29 [==============================] - 0s 2ms/step - loss: 62407.4883 - mae: 62407.4883\n",
            "Epoch 32/100\n",
            "29/29 [==============================] - 0s 2ms/step - loss: 55973.3789 - mae: 55973.3789\n",
            "Epoch 33/100\n",
            "29/29 [==============================] - 0s 3ms/step - loss: 64622.0312 - mae: 64622.0312\n",
            "Epoch 34/100\n",
            "29/29 [==============================] - 0s 2ms/step - loss: 53326.5469 - mae: 53326.5469\n",
            "Epoch 35/100\n",
            "29/29 [==============================] - 0s 2ms/step - loss: 51862.6094 - mae: 51862.6094\n",
            "Epoch 36/100\n",
            "29/29 [==============================] - 0s 2ms/step - loss: 45851.3594 - mae: 45851.3594\n",
            "Epoch 37/100\n",
            "29/29 [==============================] - 0s 2ms/step - loss: 45248.4062 - mae: 45248.4062\n",
            "Epoch 38/100\n",
            "29/29 [==============================] - 0s 2ms/step - loss: 40791.7227 - mae: 40791.7227\n",
            "Epoch 39/100\n",
            "29/29 [==============================] - 0s 2ms/step - loss: 36295.0781 - mae: 36295.0781\n",
            "Epoch 40/100\n",
            "29/29 [==============================] - 0s 2ms/step - loss: 32120.9785 - mae: 32120.9785\n",
            "Epoch 41/100\n",
            "29/29 [==============================] - 0s 2ms/step - loss: 28223.2305 - mae: 28223.2305\n",
            "Epoch 42/100\n",
            "29/29 [==============================] - 0s 2ms/step - loss: 34511.7852 - mae: 34511.7852\n",
            "Epoch 43/100\n",
            "29/29 [==============================] - 0s 2ms/step - loss: 40102.5703 - mae: 40102.5703\n",
            "Epoch 44/100\n",
            "29/29 [==============================] - 0s 3ms/step - loss: 35683.4531 - mae: 35683.4531\n",
            "Epoch 45/100\n",
            "29/29 [==============================] - 0s 2ms/step - loss: 29308.6445 - mae: 29308.6445\n",
            "Epoch 46/100\n",
            "29/29 [==============================] - 0s 2ms/step - loss: 32785.5703 - mae: 32785.5703\n",
            "Epoch 47/100\n",
            "29/29 [==============================] - 0s 2ms/step - loss: 28288.6562 - mae: 28288.6562\n",
            "Epoch 48/100\n",
            "29/29 [==============================] - 0s 2ms/step - loss: 23353.1113 - mae: 23353.1113\n",
            "Epoch 49/100\n",
            "29/29 [==============================] - 0s 2ms/step - loss: 27843.1504 - mae: 27843.1504\n",
            "Epoch 50/100\n",
            "29/29 [==============================] - 0s 2ms/step - loss: 33426.1250 - mae: 33426.1250\n",
            "Epoch 51/100\n",
            "29/29 [==============================] - 0s 2ms/step - loss: 22946.9668 - mae: 22946.9668\n",
            "Epoch 52/100\n",
            "29/29 [==============================] - 0s 2ms/step - loss: 31135.6133 - mae: 31135.6133\n",
            "Epoch 53/100\n",
            "29/29 [==============================] - 0s 2ms/step - loss: 25173.4473 - mae: 25173.4473\n",
            "Epoch 54/100\n",
            "29/29 [==============================] - 0s 2ms/step - loss: 22582.9258 - mae: 22582.9258\n",
            "Epoch 55/100\n",
            "29/29 [==============================] - 0s 2ms/step - loss: 29469.1094 - mae: 29469.1094\n",
            "Epoch 56/100\n",
            "29/29 [==============================] - 0s 2ms/step - loss: 21268.0703 - mae: 21268.0703\n",
            "Epoch 57/100\n",
            "29/29 [==============================] - 0s 2ms/step - loss: 22953.2031 - mae: 22953.2031\n",
            "Epoch 58/100\n",
            "29/29 [==============================] - 0s 2ms/step - loss: 37376.9258 - mae: 37376.9258\n",
            "Epoch 59/100\n",
            "29/29 [==============================] - 0s 2ms/step - loss: 25348.9102 - mae: 25348.9102\n",
            "Epoch 60/100\n",
            "29/29 [==============================] - 0s 2ms/step - loss: 17271.9785 - mae: 17271.9785\n",
            "Epoch 61/100\n",
            "29/29 [==============================] - 0s 2ms/step - loss: 34562.1328 - mae: 34562.1328\n",
            "Epoch 62/100\n",
            "29/29 [==============================] - 0s 2ms/step - loss: 33958.1484 - mae: 33958.1484\n",
            "Epoch 63/100\n",
            "29/29 [==============================] - 0s 2ms/step - loss: 21529.9629 - mae: 21529.9629\n",
            "Epoch 64/100\n",
            "29/29 [==============================] - 0s 2ms/step - loss: 39533.5586 - mae: 39533.5586\n",
            "Epoch 65/100\n",
            "29/29 [==============================] - 0s 2ms/step - loss: 38902.0938 - mae: 38902.0938\n",
            "Epoch 66/100\n",
            "29/29 [==============================] - 0s 2ms/step - loss: 29782.5020 - mae: 29782.5020\n",
            "Epoch 67/100\n",
            "29/29 [==============================] - 0s 2ms/step - loss: 22958.6895 - mae: 22958.6895\n",
            "Epoch 68/100\n",
            "29/29 [==============================] - 0s 2ms/step - loss: 16895.3184 - mae: 16895.3184\n",
            "Epoch 69/100\n",
            "29/29 [==============================] - 0s 2ms/step - loss: 33952.9961 - mae: 33952.9961\n",
            "Epoch 70/100\n",
            "29/29 [==============================] - 0s 2ms/step - loss: 26970.1895 - mae: 26970.1895\n",
            "Epoch 71/100\n",
            "29/29 [==============================] - 0s 2ms/step - loss: 30077.5352 - mae: 30077.5352\n",
            "Epoch 72/100\n",
            "29/29 [==============================] - 0s 2ms/step - loss: 32621.3516 - mae: 32621.3516\n",
            "Epoch 73/100\n",
            "29/29 [==============================] - 0s 2ms/step - loss: 26102.6504 - mae: 26102.6504\n",
            "Epoch 74/100\n",
            "29/29 [==============================] - 0s 2ms/step - loss: 22965.3887 - mae: 22965.3887\n",
            "Epoch 75/100\n",
            "29/29 [==============================] - 0s 3ms/step - loss: 22723.8008 - mae: 22723.8008\n",
            "Epoch 76/100\n",
            "29/29 [==============================] - 0s 2ms/step - loss: 30943.4102 - mae: 30943.4102\n",
            "Epoch 77/100\n",
            "29/29 [==============================] - 0s 2ms/step - loss: 25232.5703 - mae: 25232.5703\n",
            "Epoch 78/100\n",
            "29/29 [==============================] - 0s 2ms/step - loss: 22062.2793 - mae: 22062.2793\n",
            "Epoch 79/100\n",
            "29/29 [==============================] - 0s 2ms/step - loss: 25141.1836 - mae: 25141.1836\n",
            "Epoch 80/100\n",
            "29/29 [==============================] - 0s 2ms/step - loss: 20837.4258 - mae: 20837.4258\n",
            "Epoch 81/100\n",
            "29/29 [==============================] - 0s 2ms/step - loss: 26486.8828 - mae: 26486.8828\n",
            "Epoch 82/100\n",
            "29/29 [==============================] - 0s 2ms/step - loss: 26978.4395 - mae: 26978.4395\n",
            "Epoch 83/100\n",
            "29/29 [==============================] - 0s 2ms/step - loss: 25421.4199 - mae: 25421.4199\n",
            "Epoch 84/100\n",
            "29/29 [==============================] - 0s 2ms/step - loss: 20208.6836 - mae: 20208.6836\n",
            "Epoch 85/100\n",
            "29/29 [==============================] - 0s 2ms/step - loss: 20144.6328 - mae: 20144.6328\n",
            "Epoch 86/100\n",
            "29/29 [==============================] - 0s 2ms/step - loss: 22181.3594 - mae: 22181.3594\n",
            "Epoch 87/100\n",
            "29/29 [==============================] - 0s 2ms/step - loss: 31052.6309 - mae: 31052.6309\n",
            "Epoch 88/100\n",
            "29/29 [==============================] - 0s 2ms/step - loss: 25187.7266 - mae: 25187.7266\n",
            "Epoch 89/100\n",
            "29/29 [==============================] - 0s 3ms/step - loss: 20557.1836 - mae: 20557.1836\n",
            "Epoch 90/100\n",
            "29/29 [==============================] - 0s 2ms/step - loss: 20812.7480 - mae: 20812.7480\n",
            "Epoch 91/100\n",
            "29/29 [==============================] - 0s 2ms/step - loss: 29367.6934 - mae: 29367.6934\n",
            "Epoch 92/100\n",
            "29/29 [==============================] - 0s 2ms/step - loss: 13395.0547 - mae: 13395.0547\n",
            "Epoch 93/100\n",
            "29/29 [==============================] - 0s 2ms/step - loss: 12751.0098 - mae: 12751.0098\n",
            "Epoch 94/100\n",
            "29/29 [==============================] - 0s 2ms/step - loss: 13686.3838 - mae: 13686.3838\n",
            "Epoch 95/100\n",
            "29/29 [==============================] - 0s 2ms/step - loss: 29174.1191 - mae: 29174.1191\n",
            "Epoch 96/100\n",
            "29/29 [==============================] - 0s 2ms/step - loss: 16607.9492 - mae: 16607.9492\n",
            "Epoch 97/100\n",
            "29/29 [==============================] - 0s 2ms/step - loss: 34925.8438 - mae: 34925.8438\n",
            "Epoch 98/100\n",
            "29/29 [==============================] - 0s 2ms/step - loss: 17093.3203 - mae: 17093.3203\n",
            "Epoch 99/100\n",
            "29/29 [==============================] - 0s 2ms/step - loss: 17133.4297 - mae: 17133.4297\n",
            "Epoch 100/100\n",
            "29/29 [==============================] - 0s 2ms/step - loss: 15234.0479 - mae: 15234.0479\n"
          ],
          "name": "stdout"
        },
        {
          "output_type": "execute_result",
          "data": {
            "text/plain": [
              "<tensorflow.python.keras.callbacks.History at 0x7f4873b74810>"
            ]
          },
          "metadata": {
            "tags": []
          },
          "execution_count": 130
        }
      ]
    },
    {
      "cell_type": "code",
      "metadata": {
        "colab": {
          "base_uri": "https://localhost:8080/",
          "height": 754
        },
        "id": "bcVczFb9VGWj",
        "outputId": "5b6101cf-1dc3-429c-d38f-ebf16a1909b3"
      },
      "source": [
        "from tensorflow.keras.utils import plot_model\n",
        "plot_model(model, show_shapes=True)"
      ],
      "execution_count": null,
      "outputs": [
        {
          "output_type": "execute_result",
          "data": {
            "image/png": "[encoded data removed]",
            "text/plain": [
              "<IPython.core.display.Image object>"
            ]
          },
          "metadata": {
            "tags": []
          },
          "execution_count": 131
        }
      ]
    },
    {
      "cell_type": "markdown",
      "metadata": {
        "id": "Rs4CkbPoVtaA"
      },
      "source": [
        "### Visualizing our model's predictions \n",
        "\n",
        "To visualize predictions, it's good idea to plot them against the ground truth labels. \n",
        "\n",
        "often you'll see this in the form `y_test` or `y_true` versus `y_pred` ( ground truth versus your model's predictions). "
      ]
    },
    {
      "cell_type": "code",
      "metadata": {
        "colab": {
          "base_uri": "https://localhost:8080/"
        },
        "id": "tsjt1Fz_t6j2",
        "outputId": "cda4462c-923c-4bfe-f345-01d82dddaf46"
      },
      "source": [
        "# Make soem prediction \n",
        "\n",
        "y_pred = model.predict(X_test)\n",
        "y_pred"
      ],
      "execution_count": null,
      "outputs": [
        {
          "output_type": "execute_result",
          "data": {
            "text/plain": [
              "array([[530637.7 ],\n",
              "       [532728.06],\n",
              "       [534818.6 ],\n",
              "       [536909.06],\n",
              "       [538999.44],\n",
              "       [541089.9 ],\n",
              "       [543219.1 ],\n",
              "       [545381.75],\n",
              "       [547544.4 ],\n",
              "       [549707.06],\n",
              "       [551869.6 ],\n",
              "       [554032.3 ],\n",
              "       [556194.8 ],\n",
              "       [558357.5 ],\n",
              "       [560520.06],\n",
              "       [562682.7 ],\n",
              "       [564845.25],\n",
              "       [567007.94],\n",
              "       [569170.56],\n",
              "       [571333.2 ],\n",
              "       [573495.75],\n",
              "       [575658.4 ],\n",
              "       [577821.06],\n",
              "       [579983.6 ],\n",
              "       [582146.2 ],\n",
              "       [584308.8 ],\n",
              "       [586471.44],\n",
              "       [588634.06],\n",
              "       [590846.8 ],\n",
              "       [593062.6 ],\n",
              "       [595278.5 ],\n",
              "       [597494.4 ],\n",
              "       [599710.25],\n",
              "       [601926.2 ],\n",
              "       [604142.  ],\n",
              "       [606357.9 ],\n",
              "       [608573.75],\n",
              "       [610789.7 ],\n",
              "       [613005.5 ],\n",
              "       [615221.44],\n",
              "       [617437.3 ],\n",
              "       [619653.06],\n",
              "       [621869.  ],\n",
              "       [624084.8 ],\n",
              "       [626300.7 ],\n",
              "       [628516.6 ],\n",
              "       [630732.5 ],\n",
              "       [632948.3 ],\n",
              "       [635164.25],\n",
              "       [637380.1 ],\n",
              "       [639596.  ],\n",
              "       [641811.8 ],\n",
              "       [644027.6 ],\n",
              "       [646243.56],\n",
              "       [648514.94],\n",
              "       [650805.1 ],\n",
              "       [653119.75],\n",
              "       [655458.1 ],\n",
              "       [657818.4 ],\n",
              "       [660191.75],\n",
              "       [662585.06],\n",
              "       [664978.44],\n",
              "       [667371.75],\n",
              "       [669765.25],\n",
              "       [672158.6 ],\n",
              "       [674552.  ],\n",
              "       [676945.4 ],\n",
              "       [679338.75],\n",
              "       [681732.1 ],\n",
              "       [684148.44],\n",
              "       [686588.2 ],\n",
              "       [689027.8 ],\n",
              "       [691467.56],\n",
              "       [693911.1 ],\n",
              "       [696382.8 ],\n",
              "       [698854.44],\n",
              "       [701326.06],\n",
              "       [703797.7 ],\n",
              "       [706269.4 ],\n",
              "       [708741.  ],\n",
              "       [711221.06],\n",
              "       [713745.56],\n",
              "       [716269.94],\n",
              "       [718794.3 ],\n",
              "       [721318.7 ],\n",
              "       [723843.1 ],\n",
              "       [726370.3 ],\n",
              "       [728923.6 ],\n",
              "       [731477.06],\n",
              "       [734030.4 ],\n",
              "       [736583.8 ],\n",
              "       [739137.2 ],\n",
              "       [741690.44],\n",
              "       [744243.9 ],\n",
              "       [746797.2 ],\n",
              "       [749350.5 ],\n",
              "       [751903.8 ],\n",
              "       [754457.25],\n",
              "       [757010.56],\n",
              "       [759564.06]], dtype=float32)"
            ]
          },
          "metadata": {
            "tags": []
          },
          "execution_count": 132
        }
      ]
    },
    {
      "cell_type": "markdown",
      "metadata": {
        "id": "gbD1rgj0uCWO"
      },
      "source": [
        "# Let's create a ploting fucntion \n",
        "\n",
        "#### note : if you wanna reuse, create a function\n",
        "\n",
        "\n"
      ]
    },
    {
      "cell_type": "code",
      "metadata": {
        "id": "tH7Mg0VmvF33"
      },
      "source": [
        "def plot_predictions(train_data = X_train, \n",
        "                     train_labels = y_train, \n",
        "                     test_data = X_test, \n",
        "                     test_labels = y_test, \n",
        "                     predictions=y_pred):\n",
        "    \"\"\"\n",
        "    Plots training data, test data and compares predictions to ground truth labels \n",
        "    \"\"\"\n",
        "    plt.figure(figsize=(10,7))\n",
        "    # ploting training data in blue \n",
        "    plt.scatter(train_data, train_labels, c=\"b\", label=\"Training Data\")\n",
        "    # ploting testing data in green \n",
        "    plt.scatter(test_data, test_labels, c=\"g\", label=\"Testing Data\")\n",
        "\n",
        "    # plot models prediction in red \n",
        "    plt.scatter(test_data, predictions, c='r', label=\"predictions\")\n",
        "\n",
        "    plt.legend()\n",
        "    plt.show()"
      ],
      "execution_count": null,
      "outputs": []
    },
    {
      "cell_type": "code",
      "metadata": {
        "colab": {
          "base_uri": "https://localhost:8080/",
          "height": 439
        },
        "id": "jxEacKllwI25",
        "outputId": "a6ce1447-2443-4669-9d53-0ba8dd190aba"
      },
      "source": [
        "plot_predictions()"
      ],
      "execution_count": null,
      "outputs": [
        {
          "output_type": "display_data",
          "data": {
            "image/png": "[encoded data removed]",
            "text/plain": [
              "<Figure size 720x504 with 1 Axes>"
            ]
          },
          "metadata": {
            "tags": [],
            "needs_background": "light"
          }
        }
      ]
    },
    {
      "cell_type": "markdown",
      "metadata": {
        "id": "trKyBsYowLhE"
      },
      "source": [
        "## Evaluating our model's predictions with regression evaluation metrics \n",
        "\n",
        "depending on the problem you are working on there will be different evaluation metrics to evaluate. \n",
        "Since we are working on a regression two of the main metrics \n",
        "\n",
        "* MAE - mean absolute error : on avg how wrong is each of my models predictions \n",
        "* MSE - mean square error : square the avg errors \n"
      ]
    },
    {
      "cell_type": "code",
      "metadata": {
        "colab": {
          "base_uri": "https://localhost:8080/"
        },
        "id": "FUial9p41FfH",
        "outputId": "6ed12d8d-3871-405d-e527-0b0bb354e448"
      },
      "source": [
        "# evaluate the model on the test \n",
        "model.evaluate(X_test, y_test)"
      ],
      "execution_count": null,
      "outputs": [
        {
          "output_type": "stream",
          "text": [
            "4/4 [==============================] - 0s 3ms/step - loss: 170630.7344 - mae: 170630.7344\n"
          ],
          "name": "stdout"
        },
        {
          "output_type": "execute_result",
          "data": {
            "text/plain": [
              "[170630.734375, 170630.734375]"
            ]
          },
          "metadata": {
            "tags": []
          },
          "execution_count": 135
        }
      ]
    },
    {
      "cell_type": "code",
      "metadata": {
        "colab": {
          "base_uri": "https://localhost:8080/"
        },
        "id": "uNn3EgMd20nV",
        "outputId": "2d9e8987-793d-4717-921d-8d28f7ec7ffe"
      },
      "source": [
        "# calculate the mean absolute error \n",
        "tf.metrics.mae(y_test, tf.squeeze(y_pred))"
      ],
      "execution_count": null,
      "outputs": [
        {
          "output_type": "execute_result",
          "data": {
            "text/plain": [
              "<tf.Tensor: shape=(), dtype=float32, numpy=170630.73>"
            ]
          },
          "metadata": {
            "tags": []
          },
          "execution_count": 141
        }
      ]
    },
    {
      "cell_type": "code",
      "metadata": {
        "id": "IUYZCFF34OAM"
      },
      "source": [
        ""
      ],
      "execution_count": null,
      "outputs": []
    }
  ]
}