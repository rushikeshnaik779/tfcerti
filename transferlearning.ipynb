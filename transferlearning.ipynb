{
  "nbformat": 4,
  "nbformat_minor": 0,
  "metadata": {
    "colab": {
      "name": "transferlearning.ipynb",
      "provenance": [],
      "authorship_tag": "ABX9TyP1Y2pMLX2z8711ReutN4EV",
      "include_colab_link": true
    },
    "kernelspec": {
      "name": "python3",
      "display_name": "Python 3"
    },
    "language_info": {
      "name": "python"
    },
    "accelerator": "GPU"
  },
  "cells": [
    {
      "cell_type": "markdown",
      "metadata": {
        "id": "view-in-github",
        "colab_type": "text"
      },
      "source": [
        "<a href=\"https://colab.research.google.com/github/rushikeshnaik779/tfcerti/blob/main/transferlearning.ipynb\" target=\"_parent\"><img src=\"https://colab.research.google.com/assets/colab-badge.svg\" alt=\"Open In Colab\"/></a>"
      ]
    },
    {
      "cell_type": "code",
      "metadata": {
        "colab": {
          "base_uri": "https://localhost:8080/"
        },
        "id": "SaOtuoRdyV2z",
        "outputId": "8055724a-403c-4147-8c46-cdd2c98743a2"
      },
      "source": [
        "!nvidia-smi\n"
      ],
      "execution_count": null,
      "outputs": [
        {
          "output_type": "stream",
          "text": [
            "Thu Aug 19 15:41:43 2021       \n",
            "+-----------------------------------------------------------------------------+\n",
            "| NVIDIA-SMI 470.57.02    Driver Version: 460.32.03    CUDA Version: 11.2     |\n",
            "|-------------------------------+----------------------+----------------------+\n",
            "| GPU  Name        Persistence-M| Bus-Id        Disp.A | Volatile Uncorr. ECC |\n",
            "| Fan  Temp  Perf  Pwr:Usage/Cap|         Memory-Usage | GPU-Util  Compute M. |\n",
            "|                               |                      |               MIG M. |\n",
            "|===============================+======================+======================|\n",
            "|   0  Tesla T4            Off  | 00000000:00:04.0 Off |                    0 |\n",
            "| N/A   41C    P8     9W /  70W |      0MiB / 15109MiB |      0%      Default |\n",
            "|                               |                      |                  N/A |\n",
            "+-------------------------------+----------------------+----------------------+\n",
            "                                                                               \n",
            "+-----------------------------------------------------------------------------+\n",
            "| Processes:                                                                  |\n",
            "|  GPU   GI   CI        PID   Type   Process name                  GPU Memory |\n",
            "|        ID   ID                                                   Usage      |\n",
            "|=============================================================================|\n",
            "|  No running processes found                                                 |\n",
            "+-----------------------------------------------------------------------------+\n"
          ],
          "name": "stdout"
        }
      ]
    },
    {
      "cell_type": "code",
      "metadata": {
        "colab": {
          "base_uri": "https://localhost:8080/"
        },
        "id": "4VRtYH3LyziI",
        "outputId": "7b7e11c2-4d58-4a47-820b-6951b4c1ed50"
      },
      "source": [
        "# Get data (10% of labels)\n",
        "import zipfile\n",
        "\n",
        "# Download data\n",
        "!wget https://storage.googleapis.com/ztm_tf_course/food_vision/10_food_classes_10_percent.zip\n",
        "\n",
        "# Unzip the downloaded file\n",
        "zip_ref = zipfile.ZipFile(\"10_food_classes_10_percent.zip\", \"r\")\n",
        "zip_ref.extractall()\n",
        "zip_ref.close()"
      ],
      "execution_count": null,
      "outputs": [
        {
          "output_type": "stream",
          "text": [
            "--2021-08-19 15:41:48--  https://storage.googleapis.com/ztm_tf_course/food_vision/10_food_classes_10_percent.zip\n",
            "Resolving storage.googleapis.com (storage.googleapis.com)... 142.251.2.128, 142.250.101.128, 142.250.141.128, ...\n",
            "Connecting to storage.googleapis.com (storage.googleapis.com)|142.251.2.128|:443... connected.\n",
            "HTTP request sent, awaiting response... 200 OK\n",
            "Length: 168546183 (161M) [application/zip]\n",
            "Saving to: ‘10_food_classes_10_percent.zip’\n",
            "\n",
            "10_food_classes_10_ 100%[===================>] 160.74M   228MB/s    in 0.7s    \n",
            "\n",
            "2021-08-19 15:41:49 (228 MB/s) - ‘10_food_classes_10_percent.zip’ saved [168546183/168546183]\n",
            "\n"
          ],
          "name": "stdout"
        }
      ]
    },
    {
      "cell_type": "code",
      "metadata": {
        "colab": {
          "base_uri": "https://localhost:8080/"
        },
        "id": "33yTzmP6zNB_",
        "outputId": "0e552fbc-f089-41ed-bee6-df29c4f93bd6"
      },
      "source": [
        "import os \n",
        "\n",
        "for dirpath, dirnames, filenames in os.walk(\"10_food_classes_10_percent\"):\n",
        "    print(f\"There are {len(dirnames)} directories & {len(filenames)} image in '{dirpath}'.\")"
      ],
      "execution_count": null,
      "outputs": [
        {
          "output_type": "stream",
          "text": [
            "There are 2 directories & 0 image in '10_food_classes_10_percent'.\n",
            "There are 10 directories & 0 image in '10_food_classes_10_percent/test'.\n",
            "There are 0 directories & 250 image in '10_food_classes_10_percent/test/chicken_wings'.\n",
            "There are 0 directories & 250 image in '10_food_classes_10_percent/test/chicken_curry'.\n",
            "There are 0 directories & 250 image in '10_food_classes_10_percent/test/fried_rice'.\n",
            "There are 0 directories & 250 image in '10_food_classes_10_percent/test/hamburger'.\n",
            "There are 0 directories & 250 image in '10_food_classes_10_percent/test/sushi'.\n",
            "There are 0 directories & 250 image in '10_food_classes_10_percent/test/grilled_salmon'.\n",
            "There are 0 directories & 250 image in '10_food_classes_10_percent/test/ice_cream'.\n",
            "There are 0 directories & 250 image in '10_food_classes_10_percent/test/pizza'.\n",
            "There are 0 directories & 250 image in '10_food_classes_10_percent/test/steak'.\n",
            "There are 0 directories & 250 image in '10_food_classes_10_percent/test/ramen'.\n",
            "There are 10 directories & 0 image in '10_food_classes_10_percent/train'.\n",
            "There are 0 directories & 75 image in '10_food_classes_10_percent/train/chicken_wings'.\n",
            "There are 0 directories & 75 image in '10_food_classes_10_percent/train/chicken_curry'.\n",
            "There are 0 directories & 75 image in '10_food_classes_10_percent/train/fried_rice'.\n",
            "There are 0 directories & 75 image in '10_food_classes_10_percent/train/hamburger'.\n",
            "There are 0 directories & 75 image in '10_food_classes_10_percent/train/sushi'.\n",
            "There are 0 directories & 75 image in '10_food_classes_10_percent/train/grilled_salmon'.\n",
            "There are 0 directories & 75 image in '10_food_classes_10_percent/train/ice_cream'.\n",
            "There are 0 directories & 75 image in '10_food_classes_10_percent/train/pizza'.\n",
            "There are 0 directories & 75 image in '10_food_classes_10_percent/train/steak'.\n",
            "There are 0 directories & 75 image in '10_food_classes_10_percent/train/ramen'.\n"
          ],
          "name": "stdout"
        }
      ]
    },
    {
      "cell_type": "code",
      "metadata": {
        "colab": {
          "base_uri": "https://localhost:8080/"
        },
        "id": "DRiDeEkIzoFG",
        "outputId": "e68ff81e-3195-43db-b237-6e3db4353746"
      },
      "source": [
        "# setup data inputs \n",
        "\n",
        "from tensorflow.keras.preprocessing.image import ImageDataGenerator\n",
        "\n",
        "IMAGE_SHAPE = (224, 224)\n",
        "BATCH_SIZE = 32\n",
        "\n",
        "train_dir = \"10_food_classes_10_percent/train/\"\n",
        "test_dir = \"10_food_classes_10_percent/test/\"\n",
        "\n",
        "train_datagen = ImageDataGenerator(rescale=1/255.)\n",
        "test_datagen = ImageDataGenerator(rescale=1/255.)\n",
        "\n",
        "\n",
        "print(\"Training Images: \")\n",
        "train_data_10_percent = train_datagen.flow_from_directory(\n",
        "    train_dir, \n",
        "    target_size = IMAGE_SHAPE, \n",
        "    batch_size = BATCH_SIZE, \n",
        "    class_mode = \"categorical\"\n",
        ")\n",
        "\n",
        "print(\"Testing Images: \")\n",
        "test_data = test_datagen.flow_from_directory(\n",
        "    test_dir, \n",
        "    target_size = IMAGE_SHAPE, \n",
        "    batch_size = BATCH_SIZE, \n",
        "    class_mode = \"categorical\"\n",
        ")"
      ],
      "execution_count": null,
      "outputs": [
        {
          "output_type": "stream",
          "text": [
            "Training Images: \n",
            "Found 750 images belonging to 10 classes.\n",
            "Testing Images: \n",
            "Found 2500 images belonging to 10 classes.\n"
          ],
          "name": "stdout"
        }
      ]
    },
    {
      "cell_type": "markdown",
      "metadata": {
        "id": "irKVE13d1D94"
      },
      "source": [
        "# WHAT ARE CALLBACKS \n",
        "\n",
        "* TensorBoard \n",
        "* ModelCheckpointing \n",
        "* Early Stopping"
      ]
    },
    {
      "cell_type": "code",
      "metadata": {
        "id": "3jQY730B1gbm"
      },
      "source": [
        "# Create TensorBoard Callback ( functionized because we need to create a new one for each)\n",
        "import datetime \n",
        "\n",
        "\n",
        "def create_tensorboard_callback(dir_name, experiment_name):\n",
        "    log_dir = dir_name + \"/\"+ experiment_name +\"/\"+ datetime.datetime.now().strftime(\"%Y%m%d-%H%M%S\")\n",
        "    tensorboard_callback = tf.keras.callbacks.TensorBoard(log_dir = log_dir)\n",
        "    print(f\"Saving TensorBoard log files to : {log_dir}\")\n",
        "    return tensorboard_callback"
      ],
      "execution_count": null,
      "outputs": []
    },
    {
      "cell_type": "markdown",
      "metadata": {
        "id": "wG37RTpa3pOB"
      },
      "source": [
        "# Creating Model Uisng Tensorflow Hub"
      ]
    },
    {
      "cell_type": "code",
      "metadata": {
        "id": "qODdLylK4SDD"
      },
      "source": [
        "## Let's compare the two models \n",
        "\n",
        "# Resnet 50 V2 feature vector\n",
        "resnet_url = \"https://tfhub.dev/google/imagenet/resnet_v2_50/feature_vector/4\"\n",
        "\n",
        "# Original: EfficientNetB0 feature vector (version 1)\n",
        "efficientnet_url = \"https://tfhub.dev/tensorflow/efficientnet/b0/feature-vector/1\"\n",
        "\n",
        "# # New: EfficientNetB0 feature vector (version 2)\n",
        "# efficientnet_url = \"https://tfhub.dev/google/imagenet/efficientnet_v2_imagenet1k_b0/feature_vector/2\""
      ],
      "execution_count": null,
      "outputs": []
    },
    {
      "cell_type": "code",
      "metadata": {
        "id": "ufCdvurJBA3Z"
      },
      "source": [
        "import tensorflow as tf \n",
        "import tensorflow_hub as hub\n",
        "from tensorflow.keras import layers \n"
      ],
      "execution_count": null,
      "outputs": []
    },
    {
      "cell_type": "code",
      "metadata": {
        "id": "0v-sPOXBBZtS"
      },
      "source": [
        "# let's create_model() function \n",
        "\n",
        "def create_model(model_url, num_classes=10):\n",
        "    \"\"\"\n",
        "    Takes a Tensorflow hub URL and creates a keras Sequential model with it.\n",
        "    \n",
        "\n",
        "    Args : \n",
        "        model_url : (str) A tensorflow Hub features extraction URL. \n",
        "        num_classes (int) : Number of output neurons in the op layer,\n",
        "        should be equal to number of target clases , default 10.\n",
        "\n",
        "    Returns : \n",
        "    A uncompiled Keras Sequential Model with model_url as feature extractor \n",
        "    layer and Dense output layer with number classes output neurons \n",
        "\n",
        "\n",
        "    \"\"\"\n",
        "    # Download the pretrained model and save it as keras layer \n",
        "\n",
        "    feature_extractor_layer = hub.KerasLayer(\n",
        "        model_url, \n",
        "        trainable=False, \n",
        "        name = \"FEL\", \n",
        "        input_shape = IMAGE_SHAPE+(3,)\n",
        "    )\n",
        "\n",
        "    # create out seq model \n",
        "    model = tf.keras.Sequential([\n",
        "                                 feature_extractor_layer,\n",
        "                                 tf.keras.layers.Dense(num_classes, activation=\"softmax\", name=\"outputlayers\")\n",
        "    ])\n",
        "\n",
        "    return model \n"
      ],
      "execution_count": null,
      "outputs": []
    },
    {
      "cell_type": "markdown",
      "metadata": {
        "id": "AozGKGvhDd1d"
      },
      "source": [
        "# Creatign and testing ResNet TF Hub Feature Extraction Model "
      ]
    },
    {
      "cell_type": "code",
      "metadata": {
        "id": "zz1XtRu6Ds-J"
      },
      "source": [
        "# create ResNet Model \n",
        "\n",
        "resnet_model = create_model(\n",
        "    resnet_url, \n",
        "    num_classes = train_data_10_percent.num_classes,\n",
        "    \n",
        "\n",
        ")"
      ],
      "execution_count": null,
      "outputs": []
    },
    {
      "cell_type": "code",
      "metadata": {
        "colab": {
          "base_uri": "https://localhost:8080/"
        },
        "id": "FYtW22EGEPyj",
        "outputId": "d4ad3bb3-c15d-4ace-830e-d1ba6b1678ba"
      },
      "source": [
        "resnet_model.summary()"
      ],
      "execution_count": null,
      "outputs": [
        {
          "output_type": "stream",
          "text": [
            "Model: \"sequential\"\n",
            "_________________________________________________________________\n",
            "Layer (type)                 Output Shape              Param #   \n",
            "=================================================================\n",
            "FEL (KerasLayer)             (None, 2048)              23564800  \n",
            "_________________________________________________________________\n",
            "outputlayers (Dense)         (None, 10)                20490     \n",
            "=================================================================\n",
            "Total params: 23,585,290\n",
            "Trainable params: 20,490\n",
            "Non-trainable params: 23,564,800\n",
            "_________________________________________________________________\n"
          ],
          "name": "stdout"
        }
      ]
    },
    {
      "cell_type": "code",
      "metadata": {
        "id": "YT9ICTMOEQ1A"
      },
      "source": [
        "# compile resent model \n",
        "\n",
        "resnet_model.compile(\n",
        "    loss = tf.keras.losses.CategoricalCrossentropy(),\n",
        "    optimizer = tf.keras.optimizers.Adam(),\n",
        "    metrics = [\"accuracy\"]\n",
        ")"
      ],
      "execution_count": null,
      "outputs": []
    },
    {
      "cell_type": "code",
      "metadata": {
        "colab": {
          "base_uri": "https://localhost:8080/"
        },
        "id": "FAyCIF1vF_Ze",
        "outputId": "0ef1b631-1806-4b6a-8ecf-6169c19783d0"
      },
      "source": [
        "# lets fit model \n",
        "resent_history = resnet_model.fit(\n",
        "    train_data_10_percent, \n",
        "    epochs=5, \n",
        "    steps_per_epoch=len(train_data_10_percent),\n",
        "    validation_data = test_data,\n",
        "    callbacks = [create_tensorboard_callback(\n",
        "        dir_name = \"tensorflow_hub\", \n",
        "        experiment_name = \"resnet50v2\"\n",
        "    )]\n",
        ")\n",
        "\n"
      ],
      "execution_count": null,
      "outputs": [
        {
          "output_type": "stream",
          "text": [
            "Saving TensorBoard log files to : tensorflow_hub/resnet50v2/20210819-154209\n",
            "Epoch 1/5\n",
            "24/24 [==============================] - 52s 787ms/step - loss: 1.9463 - accuracy: 0.3640 - val_loss: 1.2059 - val_accuracy: 0.6236\n",
            "Epoch 2/5\n",
            "24/24 [==============================] - 16s 678ms/step - loss: 0.8920 - accuracy: 0.7227 - val_loss: 0.8670 - val_accuracy: 0.7172\n",
            "Epoch 3/5\n",
            "24/24 [==============================] - 16s 676ms/step - loss: 0.6135 - accuracy: 0.8120 - val_loss: 0.7558 - val_accuracy: 0.7524\n",
            "Epoch 4/5\n",
            "24/24 [==============================] - 16s 675ms/step - loss: 0.4547 - accuracy: 0.8960 - val_loss: 0.7030 - val_accuracy: 0.7696\n",
            "Epoch 5/5\n",
            "24/24 [==============================] - 16s 675ms/step - loss: 0.3777 - accuracy: 0.9187 - val_loss: 0.6907 - val_accuracy: 0.7712\n"
          ],
          "name": "stdout"
        }
      ]
    },
    {
      "cell_type": "code",
      "metadata": {
        "id": "hq0KIqNzG79l"
      },
      "source": [
        "# Let's create a function plot a loss curve \n",
        "# Tidbit \n",
        "\n",
        "import matplotlib.pyplot as plt \n",
        "\n",
        "def plot_loss_curves(history):\n",
        "    \"\"\"\n",
        "    Returns seperate loss curves for training and validation metrics. \n",
        "\n",
        "    Args: \n",
        "        history: Tensorflow history object \n",
        "\n",
        "    returns : \n",
        "    plots of training/ validation loss and accuracy \n",
        "\n",
        "    \"\"\" \n",
        "\n",
        "    loss = history.history[\"loss\"]\n",
        "    val_loss = history.history[\"val_loss\"]\n",
        "\n",
        "    accuracy = history.history['accuracy']\n",
        "    val_accuracy = history.history['val_accuracy']\n",
        "\n",
        "\n",
        "    epochs = range(len(loss))\n",
        "    \n",
        "    #plot loss\n",
        "    plt.plot(epochs, loss, label = \"training_loss\")\n",
        "    plt.plot(epochs, val_loss, label=\"val_loss\")\n",
        "    plt.title(\"Loss\", size=22)\n",
        "    plt.legend()\n",
        "    plt.xlabel(\"Loss\")\n",
        "    plt.show()\n",
        "\n",
        "    # Plot accuracy \n",
        "    plt.plot(epochs, accuracy, label=\"Training Accuracy\")\n",
        "    plt.plot(epochs, val_accuracy, label=\"Val_Accuracy\")\n",
        "    plt.title(\"Accuracy\", size=22)\n",
        "    plt.legend()\n",
        "    plt.xlabel(\"Accuracy\")\n",
        "    plt.show()"
      ],
      "execution_count": null,
      "outputs": []
    },
    {
      "cell_type": "code",
      "metadata": {
        "colab": {
          "base_uri": "https://localhost:8080/",
          "height": 585
        },
        "id": "yuM1Dwx2HxuE",
        "outputId": "8e630f48-f2b6-4404-ba8b-62cf165ca4da"
      },
      "source": [
        "plot_loss_curves(resent_history)"
      ],
      "execution_count": null,
      "outputs": [
        {
          "output_type": "display_data",
          "data": {
            "image/png": "[encoded data removed]",
            "text/plain": [
              "<Figure size 432x288 with 1 Axes>"
            ]
          },
          "metadata": {
            "needs_background": "light"
          }
        },
        {
          "output_type": "display_data",
          "data": {
            "image/png": "[encoded data removed]",
            "text/plain": [
              "<Figure size 432x288 with 1 Axes>"
            ]
          },
          "metadata": {
            "needs_background": "light"
          }
        }
      ]
    },
    {
      "cell_type": "code",
      "metadata": {
        "id": "g1uZ29RCHz-D"
      },
      "source": [
        ""
      ],
      "execution_count": null,
      "outputs": []
    },
    {
      "cell_type": "markdown",
      "metadata": {
        "id": "oi-QX_xmIT7T"
      },
      "source": [
        "# Creating and testing EfficientNetB0 Tensorflow Hub Feature Extraction Model"
      ]
    },
    {
      "cell_type": "code",
      "metadata": {
        "id": "5DJ5ZyRKIbzd"
      },
      "source": [
        "efficientNet = create_model(\n",
        "   efficientnet_url, \n",
        "   num_classes = train_data_10_percent.num_classes\n",
        "\n",
        "\n",
        ")"
      ],
      "execution_count": null,
      "outputs": []
    },
    {
      "cell_type": "code",
      "metadata": {
        "colab": {
          "base_uri": "https://localhost:8080/"
        },
        "id": "I-TY3diSIz8Z",
        "outputId": "8f676f1f-7986-4292-f8f0-3e38e6574f0d"
      },
      "source": [
        "efficientNet.summary()"
      ],
      "execution_count": null,
      "outputs": [
        {
          "output_type": "stream",
          "text": [
            "Model: \"sequential_3\"\n",
            "_________________________________________________________________\n",
            "Layer (type)                 Output Shape              Param #   \n",
            "=================================================================\n",
            "FEL (KerasLayer)             (None, 1280)              4049564   \n",
            "_________________________________________________________________\n",
            "outputlayers (Dense)         (None, 10)                12810     \n",
            "=================================================================\n",
            "Total params: 4,062,374\n",
            "Trainable params: 12,810\n",
            "Non-trainable params: 4,049,564\n",
            "_________________________________________________________________\n"
          ],
          "name": "stdout"
        }
      ]
    },
    {
      "cell_type": "code",
      "metadata": {
        "id": "Wr1GZNHqI7zs"
      },
      "source": [
        "efficientNet.compile(\n",
        "    loss = tf.keras.losses.CategoricalCrossentropy(),\n",
        "    optimizer = tf.keras.optimizers.Adam(),\n",
        "    metrics = ['accuracy']\n",
        ")"
      ],
      "execution_count": null,
      "outputs": []
    },
    {
      "cell_type": "code",
      "metadata": {
        "colab": {
          "base_uri": "https://localhost:8080/"
        },
        "id": "eDGU7DvXJMm2",
        "outputId": "b45b0120-99fd-4388-d1ce-af735f97a14d"
      },
      "source": [
        "efficientNet_history = efficientNet.fit(\n",
        "    train_data_10_percent, \n",
        "    epochs=5, \n",
        "    steps_per_epoch = len(train_data_10_percent), \n",
        "    validation_data = test_data,\n",
        "    callbacks = [create_tensorboard_callback(\n",
        "        dir_name = \"tensorflow_hub\", \n",
        "        experiment_name = \"effi_net50v2\"\n",
        "    )]\n",
        "\n",
        ")"
      ],
      "execution_count": null,
      "outputs": [
        {
          "output_type": "stream",
          "text": [
            "Saving TensorBoard log files to : tensorflow_hub/effi_net50v2/20210819-164839\n",
            "Epoch 1/5\n",
            "24/24 [==============================] - 24s 763ms/step - loss: 1.8896 - accuracy: 0.3973 - val_loss: 1.3306 - val_accuracy: 0.7152\n",
            "Epoch 2/5\n",
            "24/24 [==============================] - 15s 638ms/step - loss: 1.0913 - accuracy: 0.7533 - val_loss: 0.8808 - val_accuracy: 0.8140\n",
            "Epoch 3/5\n",
            "24/24 [==============================] - 15s 638ms/step - loss: 0.7746 - accuracy: 0.8333 - val_loss: 0.7052 - val_accuracy: 0.8392\n",
            "Epoch 4/5\n",
            "24/24 [==============================] - 15s 631ms/step - loss: 0.6183 - accuracy: 0.8680 - val_loss: 0.6144 - val_accuracy: 0.8496\n",
            "Epoch 5/5\n",
            "24/24 [==============================] - 15s 631ms/step - loss: 0.5235 - accuracy: 0.8907 - val_loss: 0.5614 - val_accuracy: 0.8524\n"
          ],
          "name": "stdout"
        }
      ]
    },
    {
      "cell_type": "code",
      "metadata": {
        "colab": {
          "base_uri": "https://localhost:8080/",
          "height": 585
        },
        "id": "QJB-7ia9Jk3Z",
        "outputId": "da8f976f-d0fe-4db2-b44f-745969f45d4d"
      },
      "source": [
        "plot_loss_curves(efficientNet_history)"
      ],
      "execution_count": null,
      "outputs": [
        {
          "output_type": "display_data",
          "data": {
            "image/png": "[encoded data removed]",
            "text/plain": [
              "<Figure size 432x288 with 1 Axes>"
            ]
          },
          "metadata": {
            "needs_background": "light"
          }
        },
        {
          "output_type": "display_data",
          "data": {
            "image/png": "[encoded data removed]",
            "text/plain": [
              "<Figure size 432x288 with 1 Axes>"
            ]
          },
          "metadata": {
            "needs_background": "light"
          }
        }
      ]
    },
    {
      "cell_type": "code",
      "metadata": {
        "id": "2jydIfgaXbIX"
      },
      "source": [
        ""
      ],
      "execution_count": null,
      "outputs": []
    }
  ]
}