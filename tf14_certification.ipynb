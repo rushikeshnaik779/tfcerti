{
  "nbformat": 4,
  "nbformat_minor": 0,
  "metadata": {
    "colab": {
      "name": "tf14 certification.ipynb",
      "provenance": [],
      "authorship_tag": "ABX9TyPbRZ9yRpM1M0SR/gYIquxh",
      "include_colab_link": true
    },
    "kernelspec": {
      "name": "python3",
      "display_name": "Python 3"
    },
    "language_info": {
      "name": "python"
    }
  },
  "cells": [
    {
      "cell_type": "markdown",
      "metadata": {
        "id": "view-in-github",
        "colab_type": "text"
      },
      "source": [
        "<a href=\"https://colab.research.google.com/github/rushikeshnaik779/tfcerti/blob/main/tf14_certification.ipynb\" target=\"_parent\"><img src=\"https://colab.research.google.com/assets/colab-badge.svg\" alt=\"Open In Colab\"/></a>"
      ]
    },
    {
      "cell_type": "markdown",
      "metadata": {
        "id": "gR_C3Gks8Z5p"
      },
      "source": [
        "Fundamentals of tensor \n",
        "\n",
        "- More specifically \n",
        "    - intro to tensors \n",
        "    - info from tensors \n",
        "    - manipulating tensors \n",
        "    - tensors and nimpy\n",
        "    - @tf.function ( a way to speed up you regular python functions ) \n",
        "    - using GPUs with tensorflow or TPUs \n",
        "    - Exercises to try for yourself! "
      ]
    },
    {
      "cell_type": "code",
      "metadata": {
        "id": "frKGkI8y8Y18"
      },
      "source": [
        "# "
      ],
      "execution_count": null,
      "outputs": []
    },
    {
      "cell_type": "code",
      "metadata": {
        "colab": {
          "base_uri": "https://localhost:8080/"
        },
        "id": "k3Ks-Mjy8MH8",
        "outputId": "1fb41b9f-60b9-4c70-f0ab-03d079b63eaf"
      },
      "source": [
        "# import tensroflow \n",
        "import tensorflow as tf # tf is alias\n",
        "print(tf.__version__)\n"
      ],
      "execution_count": 2,
      "outputs": [
        {
          "output_type": "stream",
          "text": [
            "2.5.0\n"
          ],
          "name": "stdout"
        }
      ]
    },
    {
      "cell_type": "code",
      "metadata": {
        "colab": {
          "base_uri": "https://localhost:8080/"
        },
        "id": "3R_T0jVc8Vne",
        "outputId": "a7a25f53-68d2-417c-e6e6-b709c780c964"
      },
      "source": [
        "# creating tesnors with tf.constant()\n",
        "\n",
        "scalar = tf.constant(7)\n",
        "scalar"
      ],
      "execution_count": 11,
      "outputs": [
        {
          "output_type": "execute_result",
          "data": {
            "text/plain": [
              "<tf.Tensor: shape=(), dtype=int32, numpy=7>"
            ]
          },
          "metadata": {
            "tags": []
          },
          "execution_count": 11
        }
      ]
    },
    {
      "cell_type": "code",
      "metadata": {
        "colab": {
          "base_uri": "https://localhost:8080/"
        },
        "id": "XBktJQWh9Zvm",
        "outputId": "a8a6567b-da25-436e-8386-d3923b889b97"
      },
      "source": [
        "# check the number of dimension of a tensor (ndim stands for number of dimension )\n",
        "scalar.ndim"
      ],
      "execution_count": 8,
      "outputs": [
        {
          "output_type": "execute_result",
          "data": {
            "text/plain": [
              "0"
            ]
          },
          "metadata": {
            "tags": []
          },
          "execution_count": 8
        }
      ]
    },
    {
      "cell_type": "code",
      "metadata": {
        "colab": {
          "base_uri": "https://localhost:8080/"
        },
        "id": "mE_PbrGC96Ok",
        "outputId": "72115c79-1e32-4ef4-93e6-80b5b55d21d6"
      },
      "source": [
        "# create a vector \n",
        "vector = tf.constant([10, 10])\n",
        "vector"
      ],
      "execution_count": 9,
      "outputs": [
        {
          "output_type": "execute_result",
          "data": {
            "text/plain": [
              "<tf.Tensor: shape=(2,), dtype=int32, numpy=array([10, 10], dtype=int32)>"
            ]
          },
          "metadata": {
            "tags": []
          },
          "execution_count": 9
        }
      ]
    },
    {
      "cell_type": "code",
      "metadata": {
        "colab": {
          "base_uri": "https://localhost:8080/"
        },
        "id": "ANuvlyHP9_ux",
        "outputId": "f3a77c9a-9eff-464a-e4bf-90112d98fa7d"
      },
      "source": [
        "# check the dimension of our vector \n",
        "vector.ndim"
      ],
      "execution_count": 12,
      "outputs": [
        {
          "output_type": "execute_result",
          "data": {
            "text/plain": [
              "1"
            ]
          },
          "metadata": {
            "tags": []
          },
          "execution_count": 12
        }
      ]
    },
    {
      "cell_type": "code",
      "metadata": {
        "colab": {
          "base_uri": "https://localhost:8080/"
        },
        "id": "JG0sNbfc-JLs",
        "outputId": "b5702116-f580-4dfc-84d9-14e8da65add8"
      },
      "source": [
        "# create a matrix \n",
        "matrix = tf.constant([[10, 7], \n",
        "                      [7, 10]])\n",
        "matrix"
      ],
      "execution_count": 13,
      "outputs": [
        {
          "output_type": "execute_result",
          "data": {
            "text/plain": [
              "<tf.Tensor: shape=(2, 2), dtype=int32, numpy=\n",
              "array([[10,  7],\n",
              "       [ 7, 10]], dtype=int32)>"
            ]
          },
          "metadata": {
            "tags": []
          },
          "execution_count": 13
        }
      ]
    },
    {
      "cell_type": "code",
      "metadata": {
        "colab": {
          "base_uri": "https://localhost:8080/"
        },
        "id": "22MrFmE6-TCL",
        "outputId": "371f4ba6-badd-4e84-bff2-302e7ba57337"
      },
      "source": [
        "matrix.ndim"
      ],
      "execution_count": 14,
      "outputs": [
        {
          "output_type": "execute_result",
          "data": {
            "text/plain": [
              "2"
            ]
          },
          "metadata": {
            "tags": []
          },
          "execution_count": 14
        }
      ]
    },
    {
      "cell_type": "code",
      "metadata": {
        "colab": {
          "base_uri": "https://localhost:8080/"
        },
        "id": "YucD0rPJ-WsE",
        "outputId": "a3e8b8c2-c0ae-495a-9dc7-aabef1433fd7"
      },
      "source": [
        "# create another matrix \n",
        "another_matrix = tf.constant([[10., 7.],\n",
        "                              [8., 9.],\n",
        "                              [3., 2.]], dtype=tf.float16)\n",
        "# specify the datatype by dtype parameter \n",
        "\n",
        "another_matrix"
      ],
      "execution_count": 16,
      "outputs": [
        {
          "output_type": "execute_result",
          "data": {
            "text/plain": [
              "<tf.Tensor: shape=(3, 2), dtype=float16, numpy=\n",
              "array([[10.,  7.],\n",
              "       [ 8.,  9.],\n",
              "       [ 3.,  2.]], dtype=float16)>"
            ]
          },
          "metadata": {
            "tags": []
          },
          "execution_count": 16
        }
      ]
    },
    {
      "cell_type": "code",
      "metadata": {
        "colab": {
          "base_uri": "https://localhost:8080/"
        },
        "id": "XrkToVYa-wu9",
        "outputId": "cf9a420b-a7fc-4abb-b590-d43a3db0eaad"
      },
      "source": [
        "# whats the number of dimension another matrix \n",
        "another_matrix.ndim"
      ],
      "execution_count": 17,
      "outputs": [
        {
          "output_type": "execute_result",
          "data": {
            "text/plain": [
              "2"
            ]
          },
          "metadata": {
            "tags": []
          },
          "execution_count": 17
        }
      ]
    },
    {
      "cell_type": "code",
      "metadata": {
        "colab": {
          "base_uri": "https://localhost:8080/"
        },
        "id": "bz7ejbYo_NyD",
        "outputId": "bf5acb93-52bd-46f4-c12a-7661a89e4bb9"
      },
      "source": [
        "# let's create a tensor \n",
        "\n",
        "tensor = tf.constant([[[1,2,3], \n",
        "                       [4,5,6],\n",
        "                       [7,8,9]],\n",
        "                      [[10, 11, 12], \n",
        "                       [13, 14, 15], \n",
        "                       [16, 17, 18]], \n",
        "                      [[20, 21, 22], \n",
        "                      [23, 24, 25],\n",
        "                      [26, 27, 28]]]\n",
        "                      )\n",
        "tensor"
      ],
      "execution_count": 28,
      "outputs": [
        {
          "output_type": "execute_result",
          "data": {
            "text/plain": [
              "<tf.Tensor: shape=(3, 3, 3), dtype=int32, numpy=\n",
              "array([[[ 1,  2,  3],\n",
              "        [ 4,  5,  6],\n",
              "        [ 7,  8,  9]],\n",
              "\n",
              "       [[10, 11, 12],\n",
              "        [13, 14, 15],\n",
              "        [16, 17, 18]],\n",
              "\n",
              "       [[20, 21, 22],\n",
              "        [23, 24, 25],\n",
              "        [26, 27, 28]]], dtype=int32)>"
            ]
          },
          "metadata": {
            "tags": []
          },
          "execution_count": 28
        }
      ]
    },
    {
      "cell_type": "code",
      "metadata": {
        "colab": {
          "base_uri": "https://localhost:8080/"
        },
        "id": "9fC5D3sy_1-7",
        "outputId": "febb218b-dba8-4c14-fb90-c54bf903a3ef"
      },
      "source": [
        "tensor.ndim"
      ],
      "execution_count": 29,
      "outputs": [
        {
          "output_type": "execute_result",
          "data": {
            "text/plain": [
              "3"
            ]
          },
          "metadata": {
            "tags": []
          },
          "execution_count": 29
        }
      ]
    },
    {
      "cell_type": "code",
      "metadata": {
        "id": "Ro7i42PEArxX"
      },
      "source": [
        ""
      ],
      "execution_count": null,
      "outputs": []
    },
    {
      "cell_type": "markdown",
      "metadata": {
        "id": "JYd_fjwnBRSh"
      },
      "source": [
        "What we've created so far : \n",
        "\n",
        "* scalar : single number\n",
        "* vector : Number with direction (eg wind speed and direction)\n",
        "* Matrix : a 2-d array of numbers \n",
        "* Tensor an n - dimensional array of numbers ( when n can be any number of 0 dimensional tensor is a scalar, 1-d tensor is a vector)"
      ]
    },
    {
      "cell_type": "code",
      "metadata": {
        "id": "fO0IM6VABmTL"
      },
      "source": [
        ""
      ],
      "execution_count": null,
      "outputs": []
    }
  ]
}